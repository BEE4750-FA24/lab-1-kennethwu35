{
 "cells": [
  {
   "cell_type": "markdown",
   "id": "7b030395-ff9d-488b-893a-3f2925d07a29",
   "metadata": {},
   "source": [
    "# BEE 4750 Lab 1: Julia and GitHub Basics\n",
    "\n",
    "**Name**: Kenneth Wu\n",
    "\n",
    "**ID**: kcw53 (5249174)\n",
    "\n",
    "> **Due Date**\n",
    ">\n",
    "> Wednesday, 8/28/24, 9:00pm\n",
    "\n",
    "## Setup\n",
    "\n",
    "The following code should go at the top of most Julia scripts; it will\n",
    "load the local package environment and install any needed packages. You\n",
    "will see this often and shouldn’t need to touch it."
   ]
  },
  {
   "cell_type": "code",
   "execution_count": 107,
   "id": "2",
   "metadata": {},
   "outputs": [
    {
     "name": "stderr",
     "output_type": "stream",
     "text": [
      "\u001b[32m\u001b[1m  Activating\u001b[22m\u001b[39m project at `/home2/kcw53/lab-1-kennethwu35`\n"
     ]
    }
   ],
   "source": [
    "import Pkg\n",
    "Pkg.activate(\".\")\n",
    "Pkg.instantiate()"
   ]
  },
  {
   "cell_type": "markdown",
   "id": "b0c0f53b-93bc-4baa-8b0e-bdb58e8ff961",
   "metadata": {},
   "source": [
    "This next cell loads packages which are required for the rest of the\n",
    "code evaluation. In this case, we only need to load the `Plots.jl`\n",
    "plotting package, but you will see others over the course of the\n",
    "semester (and can add more if desired; just make sure that you’ve [added\n",
    "the new packages to the\n",
    "environment](https://viveks.me/environmental-systems-analysis/tutorials/julia-basics.html#package-management)).\n",
    "Standard Julia practice is to load all of the needed packages at the top\n",
    "of the file.\n",
    "\n",
    "> **Warning**\n",
    ">\n",
    "> Loading packages can take a while, especially the first time! Julia\n",
    "> tries to precompile all of the packages you’re using so repeat use is\n",
    "> faster, but this can be quite slow at first."
   ]
  },
  {
   "cell_type": "code",
   "execution_count": 108,
   "id": "4",
   "metadata": {},
   "outputs": [],
   "source": [
    "using Plots"
   ]
  },
  {
   "cell_type": "markdown",
   "id": "6d2bc421-d992-4864-a390-fd6d7820f6c0",
   "metadata": {},
   "source": [
    "## Introduction\n",
    "\n",
    "### Julia\n",
    "\n",
    "Julia is an up-and-coming language, originally developed for scientific\n",
    "programming. While learning a new programming language always has its\n",
    "hiccups, the good news is that if you’ve programmed in a high-level\n",
    "language such as Python or MATLAB, most Julia concepts should look\n",
    "familiar.\n",
    "\n",
    "If you have not successfully set up Julia, follow the instructions in\n",
    "[Tools\n",
    "Setup](https://viveks.me/environmental-systems-analysis/setup.html)\n",
    "and/or ask for help.\n",
    "\n",
    "You can use other editors for this course, but our recommendation is\n",
    "[Visual Studio Code](https://code.visualstudio.com/) with the [Julia\n",
    "extension](https://marketplace.visualstudio.com/items?itemName=julialang.language-julia),\n",
    "which will make life a *lot* simpler! You should have set this up by\n",
    "following the [Tools\n",
    "Setup](https://viveks.me/environmental-systems-analysis/setup.html)\n",
    "instructions, but if not, do so now and/or ask for help.\n",
    "\n",
    "### Jupyter Notebooks\n",
    "\n",
    "Jupyter notebooks integrate text and equations in Markdown with Julia\n",
    "(or Python, or R) code. To do this, Jupyter notebooks consist of two\n",
    "types of “cells”: code cells and Markdown (text) cells.\n",
    "\n",
    "Click once on this section of text. A box will appear around this text\n",
    "(and some areas above/below it) - all of that is within this cell.\n",
    "\n",
    "Markdown is a text markup framework for formatting language that makes\n",
    "things look pretty when viewed across different platforms: web browsers,\n",
    "notebooks, and so forth. Text written in Markdown can also include\n",
    "hyperlinks, LaTeX equations, section headers, and images, among other\n",
    "features (most of [the course\n",
    "website](https://viveks.me/climate-risk-analysis) and the lecture notes\n",
    "were all written in Markdown!). [Here is a basic Markdown cheat\n",
    "sheet](https://www.markdownguide.org/cheat-sheet/).\n",
    "\n",
    "What you are looking at right now is the formatted text after the\n",
    "Markdown is processed. To see the raw Markdown, do one of:\n",
    "\n",
    "-   press `Enter` while that cell is selected, or\n",
    "-   double-click on that cell.\n",
    "\n",
    "------------------------------------------------------------------------\n",
    "\n",
    "A couple of the features you will see in this Markdown cell:\n",
    "\n",
    "-   The `---` command creates a horizontal line. This is also nice for\n",
    "    separating sections.\n",
    "-   Backticks (`` `...` ``) can be used to format and highlight code,\n",
    "    keystrokes, etc.\n",
    "-   The `#` sign is used to create a new section header; two `#` signs\n",
    "    (`##`) is used to create a new subsection header; `###` creates a\n",
    "    subsubsection, and so on.\n",
    "-   You can create a bulleted list by using the asterisk `*` or a dash\n",
    "    `-` and a space.\n",
    "-   You can create regular text by just typing as usual.\n",
    "-   You can create **bold-faced text** by wrapping it with two asterisks\n",
    "    on both sides.\n",
    "-   You can create *italicized text* by wrapping it with a single\n",
    "    asterisk on both sides.\n",
    "-   To create a new paragraph, you must include a blank line between the\n",
    "    old and new paragraphs.\n",
    "\n",
    "At this point you might be wondering how to turn this cell back into the\n",
    "fully formatted Markdown text instead of the raw Markdown you’re\n",
    "probably still looking at. You have a couple of options, depending on\n",
    "your platform, but the most consistent is to type `Shift + Enter` to\n",
    "**execute** the cell (this is also how to run code, but more on that\n",
    "later).\n",
    "\n",
    "Additionally, you will frequently need to create new cells in your\n",
    "Jupyter notebooks. How you do this will depend on how you interact with\n",
    "the notebook, but try to figure this out now.\n",
    "\n",
    "One tip is to think carefully about what bits of code should be in the\n",
    "same cell, as you typically only see output from the last command in a\n",
    "cell. For example, compare the following:"
   ]
  },
  {
   "cell_type": "code",
   "execution_count": 109,
   "id": "6",
   "metadata": {},
   "outputs": [
    {
     "data": {
      "text/plain": [
       "-0.9589242746631385"
      ]
     },
     "execution_count": 109,
     "metadata": {},
     "output_type": "execute_result"
    }
   ],
   "source": [
    "x = 5\n",
    "sin(x)"
   ]
  },
  {
   "cell_type": "markdown",
   "id": "0b56a2f1-81e8-4426-b62a-95cfc3933b92",
   "metadata": {},
   "source": [
    "with"
   ]
  },
  {
   "cell_type": "code",
   "execution_count": 110,
   "id": "8",
   "metadata": {},
   "outputs": [
    {
     "data": {
      "text/plain": [
       "5"
      ]
     },
     "execution_count": 110,
     "metadata": {},
     "output_type": "execute_result"
    }
   ],
   "source": [
    "x = 5"
   ]
  },
  {
   "cell_type": "code",
   "execution_count": 111,
   "id": "10",
   "metadata": {},
   "outputs": [
    {
     "data": {
      "text/plain": [
       "-0.9589242746631385"
      ]
     },
     "execution_count": 111,
     "metadata": {},
     "output_type": "execute_result"
    }
   ],
   "source": [
    "sin(x)"
   ]
  },
  {
   "cell_type": "markdown",
   "id": "474d541d-93e6-47e1-874f-80abd6c9d7cc",
   "metadata": {},
   "source": [
    "In Julia, you can also suppress the output of a command with a\n",
    "semi-colon:"
   ]
  },
  {
   "cell_type": "code",
   "execution_count": 112,
   "id": "12",
   "metadata": {},
   "outputs": [],
   "source": [
    "sin(x);"
   ]
  },
  {
   "cell_type": "markdown",
   "id": "e5950d08-d04e-4fc7-bed8-33e0ee9a1909",
   "metadata": {},
   "source": [
    "which can help if you want to split some code out for clarity or to\n",
    "insert some text prior to it, but don’t want to clutter the notebook\n",
    "with its output.\n",
    "\n",
    "For code cells, to execute the commands within the cell, we also press\n",
    "`Shift+Enter`.\n",
    "\n",
    "Finally, **make sure that you evaluate all of the code cells in order\n",
    "before submitting**. One bad outcome with notebooks occurs when cells\n",
    "are evaluated out of order, so fixed bugs and edits in previous cells do\n",
    "not get a chance to propagate down. You can do this with the `Run All`\n",
    "command in whichever interface you’re using to edit your notebook.\n",
    "\n",
    "### Julia Basics\n",
    "\n",
    "There are many tutorials and references for Julia, including a [basics\n",
    "overview on the class website](../tutorials/julia-basics.html). Please\n",
    "feel free to reference these as you work through any part of the course.\n",
    "\n",
    "### Formatting Math\n",
    "\n",
    "It will often be helpful to include nicely-formatted mathematics in a\n",
    "notebook. Markdown accomodates this using LaTeX syntax. A LaTeX\n",
    "cheatsheet is available on the class website, and many other guides\n",
    "exist online.\n",
    "\n",
    "Below is an example of a formatted equation: $$x = 5.$$\n",
    "\n",
    "### Looking For Help\n",
    "\n",
    "There is no shame in using Google, or other resources, for help when\n",
    "programming. There are many, many times when you can’t quite get the\n",
    "syntax to work, can’t quite figure out the right package or command to\n",
    "use, or are feeling too lazy or overwhelmed (I’m not judging either of\n",
    "those!) to dig through the documentation. Some good resources include:\n",
    "\n",
    "-   [Stack Overflow](https://stackoverflow.com/) is a treasure trove of\n",
    "    answers;\n",
    "-   The [official Julia forum](https://discourse.julialang.org/) and the\n",
    "    [Julia Subreddit](https://www.reddit.com/r/Julia/) are also very\n",
    "    useful.\n",
    "\n",
    "You are also highly encouraged to post on [Ed\n",
    "Discussion](https://us.edstem.org), though getting a response might be\n",
    "less immediate. Just be mindful that to get good answers, [you have to\n",
    "help people help you](https://stackoverflow.com/help/how-to-ask), and\n",
    "**make sure to give credit to any resources that were helpful**!\n",
    "\n",
    "## Exercises (3 points)\n",
    "\n",
    "Use your understanding of Julia syntax and the GitHub workflow to\n",
    "complete the following (hopefully short) exercises. Convert your\n",
    "completed lab assignment to a PDF and submit it to the Gradescope\n",
    "Assignment “Lab 1”.\n",
    "\n",
    "**Remember to**:\n",
    "\n",
    "-   Include a (succint but clear) writeup of the core idea underlying\n",
    "    your code, through some combination of equations, text, and\n",
    "    algorithms. As you are not required to submit your code, we will not\n",
    "    be looking at it in detail, and instead will rely on those writeups\n",
    "    to assess whether your approach is correct.\n",
    "-   If using the notebook, evaluate all of your code cells, in order\n",
    "    (using a `Run All` command). This will make sure all output is\n",
    "    visible and that the code cells were evaluated in the correct order.\n",
    "-   Tag each of the problems when you submit to Gradescope; a 10%\n",
    "    penalty will be deducted if this is not done.\n",
    "\n",
    "### Computing a Dot Product\n",
    "\n",
    "Given two numeric arrays `x` and `y`, write a function to compute their\n",
    "dot product if they have equal length, and return an error if not (this\n",
    "is useful for debugging!). Use the following code as a starting point."
   ]
  },
  {
   "cell_type": "code",
   "execution_count": 113,
   "id": "14",
   "metadata": {},
   "outputs": [
    {
     "data": {
      "text/plain": [
       "dot_product (generic function with 1 method)"
      ]
     },
     "execution_count": 113,
     "metadata": {},
     "output_type": "execute_result"
    }
   ],
   "source": [
    "function dot_product(x, y)\n",
    "    if (length(x) == length(y))\n",
    "        sum = 0\n",
    "        for i in 1:length(x)\n",
    "            result = x[i] * y[i]\n",
    "            sum = sum + result\n",
    "        #first I checked if the length of each array is the same\n",
    "        #then, if it's the same, I will run through each element in the list and multiply them together\n",
    "            #sum is the resulting value of the dot product\n",
    "        end\n",
    "        sum\n",
    "    else\n",
    "        throw(DimensionMismatch(\"length of x not equal to length of y\"))\n",
    "    end\n",
    "end"
   ]
  },
  {
   "cell_type": "markdown",
   "id": "e0ce47a6-a5e8-4cd8-a776-5b04adfa6330",
   "metadata": {},
   "source": [
    "Here are some tests to make sure your code works as intended. Tests like\n",
    "these are useful to make sure everything works as intended. One reason\n",
    "to split your code up into functions is that it makes it straightforward\n",
    "to write tests to make sure each piece of your code works, which makes\n",
    "it easier to identify where errors are occuring."
   ]
  },
  {
   "cell_type": "code",
   "execution_count": 114,
   "id": "16",
   "metadata": {},
   "outputs": [
    {
     "data": {
      "text/plain": [
       "32"
      ]
     },
     "execution_count": 114,
     "metadata": {},
     "output_type": "execute_result"
    }
   ],
   "source": [
    "dot_product([1 2 3], [4 5 6])"
   ]
  },
  {
   "cell_type": "markdown",
   "id": "37f85171-25e8-4513-b57c-af25ff4378e7",
   "metadata": {},
   "source": [
    "If you know the value you should get, you can write a more formal test\n",
    "using the `@assert` macro, which is a good way to “automate” checking\n",
    "(since you get an obvious error if the code doesn’t work as desired):"
   ]
  },
  {
   "cell_type": "code",
   "execution_count": 115,
   "id": "18",
   "metadata": {},
   "outputs": [],
   "source": [
    "@assert dot_product([1 2 3], [4 5 6]) == 32"
   ]
  },
  {
   "cell_type": "markdown",
   "id": "65ccdcd8-449e-4f0c-8f4e-7953ea267f8d",
   "metadata": {},
   "source": [
    "Let’s also make sure we get an error when the dimensions of the two\n",
    "vectors don’t match:"
   ]
  },
  {
   "cell_type": "code",
   "execution_count": 116,
   "id": "20",
   "metadata": {},
   "outputs": [
    {
     "ename": "LoadError",
     "evalue": "DimensionMismatch: length of x not equal to length of y",
     "output_type": "error",
     "traceback": [
      "DimensionMismatch: length of x not equal to length of y",
      "",
      "Stacktrace:",
      " [1] dot_product(x::Matrix{Int64}, y::Matrix{Int64})",
      "   @ Main ./In[113]:13",
      " [2] top-level scope",
      "   @ In[116]:1"
     ]
    }
   ],
   "source": [
    "dot_product([1 2 3], [4 5])"
   ]
  },
  {
   "cell_type": "markdown",
   "id": "8c069a05-159a-43b4-aa3f-d1fec9a2f727",
   "metadata": {},
   "source": [
    "### Making a Plot\n",
    "\n",
    "Write a function to compute the square of an integer `x`. Evaluate this\n",
    "function for integers between $x=-5$ and $x=5$ and make a plot of the\n",
    "squared values (you can find a quick guide to making various types of\n",
    "plots\n",
    "[here](https://viveks.me/environmental-systems-analysis/tutorials/julia-plots.html)).\n",
    "Make sure to label your axes."
   ]
  },
  {
   "cell_type": "code",
   "execution_count": 117,
   "id": "22",
   "metadata": {},
   "outputs": [
    {
     "data": {
      "image/png": "[encoded data removed]",
      "image/svg+xml": [
       "<?xml version=\"1.0\" encoding=\"utf-8\"?>\n",
       "<svg xmlns=\"http://www.w3.org/2000/svg\" xmlns:xlink=\"http://www.w3.org/1999/xlink\" width=\"600\" height=\"400\" viewBox=\"0 0 2400 1600\">\n",
       "<defs>\n",
       "  <clipPath id=\"clip000\">\n",
       "    <rect x=\"0\" y=\"0\" width=\"2400\" height=\"1600\"/>\n",
       "  </clipPath>\n",
       "</defs>\n",
       "<path clip-path=\"url(#clip000)\" d=\"M0 1600 L2400 1600 L2400 0 L0 0  Z\" fill=\"#ffffff\" fill-rule=\"evenodd\" fill-opacity=\"1\"/>\n",
       "<defs>\n",
       "  <clipPath id=\"clip001\">\n",
       "    <rect x=\"480\" y=\"0\" width=\"1681\" height=\"1600\"/>\n",
       "  </clipPath>\n",
       "</defs>\n",
       "<path clip-path=\"url(#clip000)\" d=\"M203.964 1423.18 L2352.76 1423.18 L2352.76 47.2441 L203.964 47.2441  Z\" fill=\"#ffffff\" fill-rule=\"evenodd\" fill-opacity=\"1\"/>\n",
       "<defs>\n",
       "  <clipPath id=\"clip002\">\n",
       "    <rect x=\"203\" y=\"47\" width=\"2150\" height=\"1377\"/>\n",
       "  </clipPath>\n",
       "</defs>\n",
       "<polyline clip-path=\"url(#clip002)\" style=\"stroke:#000000; stroke-linecap:round; stroke-linejoin:round; stroke-width:2; stroke-opacity:0.1; fill:none\" points=\"467.495,1423.18 467.495,47.2441 \"/>\n",
       "<polyline clip-path=\"url(#clip002)\" style=\"stroke:#000000; stroke-linecap:round; stroke-linejoin:round; stroke-width:2; stroke-opacity:0.1; fill:none\" points=\"872.927,1423.18 872.927,47.2441 \"/>\n",
       "<polyline clip-path=\"url(#clip002)\" style=\"stroke:#000000; stroke-linecap:round; stroke-linejoin:round; stroke-width:2; stroke-opacity:0.1; fill:none\" points=\"1278.36,1423.18 1278.36,47.2441 \"/>\n",
       "<polyline clip-path=\"url(#clip002)\" style=\"stroke:#000000; stroke-linecap:round; stroke-linejoin:round; stroke-width:2; stroke-opacity:0.1; fill:none\" points=\"1683.79,1423.18 1683.79,47.2441 \"/>\n",
       "<polyline clip-path=\"url(#clip002)\" style=\"stroke:#000000; stroke-linecap:round; stroke-linejoin:round; stroke-width:2; stroke-opacity:0.1; fill:none\" points=\"2089.22,1423.18 2089.22,47.2441 \"/>\n",
       "<polyline clip-path=\"url(#clip000)\" style=\"stroke:#000000; stroke-linecap:round; stroke-linejoin:round; stroke-width:4; stroke-opacity:1; fill:none\" points=\"203.964,1423.18 2352.76,1423.18 \"/>\n",
       "<polyline clip-path=\"url(#clip000)\" style=\"stroke:#000000; stroke-linecap:round; stroke-linejoin:round; stroke-width:4; stroke-opacity:1; fill:none\" points=\"467.495,1423.18 467.495,1404.28 \"/>\n",
       "<polyline clip-path=\"url(#clip000)\" style=\"stroke:#000000; stroke-linecap:round; stroke-linejoin:round; stroke-width:4; stroke-opacity:1; fill:none\" points=\"872.927,1423.18 872.927,1404.28 \"/>\n",
       "<polyline clip-path=\"url(#clip000)\" style=\"stroke:#000000; stroke-linecap:round; stroke-linejoin:round; stroke-width:4; stroke-opacity:1; fill:none\" points=\"1278.36,1423.18 1278.36,1404.28 \"/>\n",
       "<polyline clip-path=\"url(#clip000)\" style=\"stroke:#000000; stroke-linecap:round; stroke-linejoin:round; stroke-width:4; stroke-opacity:1; fill:none\" points=\"1683.79,1423.18 1683.79,1404.28 \"/>\n",
       "<polyline clip-path=\"url(#clip000)\" style=\"stroke:#000000; stroke-linecap:round; stroke-linejoin:round; stroke-width:4; stroke-opacity:1; fill:none\" points=\"2089.22,1423.18 2089.22,1404.28 \"/>\n",
       "<path clip-path=\"url(#clip000)\" d=\"M436.395 1468.75 L466.071 1468.75 L466.071 1472.69 L436.395 1472.69 L436.395 1468.75 Z\" fill=\"#000000\" fill-rule=\"nonzero\" fill-opacity=\"1\" /><path clip-path=\"url(#clip000)\" d=\"M489.011 1455.09 L477.205 1473.54 L489.011 1473.54 L489.011 1455.09 M487.784 1451.02 L493.664 1451.02 L493.664 1473.54 L498.594 1473.54 L498.594 1477.43 L493.664 1477.43 L493.664 1485.58 L489.011 1485.58 L489.011 1477.43 L473.409 1477.43 L473.409 1472.92 L487.784 1451.02 Z\" fill=\"#000000\" fill-rule=\"nonzero\" fill-opacity=\"1\" /><path clip-path=\"url(#clip000)\" d=\"M842.87 1468.75 L872.545 1468.75 L872.545 1472.69 L842.87 1472.69 L842.87 1468.75 Z\" fill=\"#000000\" fill-rule=\"nonzero\" fill-opacity=\"1\" /><path clip-path=\"url(#clip000)\" d=\"M886.666 1481.64 L902.985 1481.64 L902.985 1485.58 L881.041 1485.58 L881.041 1481.64 Q883.703 1478.89 888.286 1474.26 Q892.892 1469.61 894.073 1468.27 Q896.318 1465.74 897.198 1464.01 Q898.101 1462.25 898.101 1460.56 Q898.101 1457.8 896.156 1456.07 Q894.235 1454.33 891.133 1454.33 Q888.934 1454.33 886.48 1455.09 Q884.05 1455.86 881.272 1457.41 L881.272 1452.69 Q884.096 1451.55 886.55 1450.97 Q889.004 1450.39 891.041 1450.39 Q896.411 1450.39 899.605 1453.08 Q902.8 1455.77 902.8 1460.26 Q902.8 1462.39 901.99 1464.31 Q901.203 1466.2 899.096 1468.8 Q898.517 1469.47 895.416 1472.69 Q892.314 1475.88 886.666 1481.64 Z\" fill=\"#000000\" fill-rule=\"nonzero\" fill-opacity=\"1\" /><path clip-path=\"url(#clip000)\" d=\"M1278.36 1454.1 Q1274.75 1454.1 1272.92 1457.66 Q1271.11 1461.2 1271.11 1468.33 Q1271.11 1475.44 1272.92 1479.01 Q1274.75 1482.55 1278.36 1482.55 Q1281.99 1482.55 1283.8 1479.01 Q1285.63 1475.44 1285.63 1468.33 Q1285.63 1461.2 1283.8 1457.66 Q1281.99 1454.1 1278.36 1454.1 M1278.36 1450.39 Q1284.17 1450.39 1287.23 1455 Q1290.3 1459.58 1290.3 1468.33 Q1290.3 1477.06 1287.23 1481.67 Q1284.17 1486.25 1278.36 1486.25 Q1272.55 1486.25 1269.47 1481.67 Q1266.42 1477.06 1266.42 1468.33 Q1266.42 1459.58 1269.47 1455 Q1272.55 1450.39 1278.36 1450.39 Z\" fill=\"#000000\" fill-rule=\"nonzero\" fill-opacity=\"1\" /><path clip-path=\"url(#clip000)\" d=\"M1678.45 1481.64 L1694.76 1481.64 L1694.76 1485.58 L1672.82 1485.58 L1672.82 1481.64 Q1675.48 1478.89 1680.07 1474.26 Q1684.67 1469.61 1685.85 1468.27 Q1688.1 1465.74 1688.98 1464.01 Q1689.88 1462.25 1689.88 1460.56 Q1689.88 1457.8 1687.94 1456.07 Q1686.01 1454.33 1682.91 1454.33 Q1680.71 1454.33 1678.26 1455.09 Q1675.83 1455.86 1673.05 1457.41 L1673.05 1452.69 Q1675.88 1451.55 1678.33 1450.97 Q1680.78 1450.39 1682.82 1450.39 Q1688.19 1450.39 1691.38 1453.08 Q1694.58 1455.77 1694.58 1460.26 Q1694.58 1462.39 1693.77 1464.31 Q1692.98 1466.2 1690.88 1468.8 Q1690.3 1469.47 1687.2 1472.69 Q1684.09 1475.88 1678.45 1481.64 Z\" fill=\"#000000\" fill-rule=\"nonzero\" fill-opacity=\"1\" /><path clip-path=\"url(#clip000)\" d=\"M2092.23 1455.09 L2080.43 1473.54 L2092.23 1473.54 L2092.23 1455.09 M2091.01 1451.02 L2096.89 1451.02 L2096.89 1473.54 L2101.82 1473.54 L2101.82 1477.43 L2096.89 1477.43 L2096.89 1485.58 L2092.23 1485.58 L2092.23 1477.43 L2076.63 1477.43 L2076.63 1472.92 L2091.01 1451.02 Z\" fill=\"#000000\" fill-rule=\"nonzero\" fill-opacity=\"1\" /><path clip-path=\"url(#clip000)\" d=\"M1294.97 1532.4 L1282.08 1549.74 L1295.64 1568.04 L1288.74 1568.04 L1278.36 1554.04 L1267.98 1568.04 L1261.08 1568.04 L1274.92 1549.39 L1262.25 1532.4 L1269.16 1532.4 L1278.61 1545.1 L1288.07 1532.4 L1294.97 1532.4 Z\" fill=\"#000000\" fill-rule=\"nonzero\" fill-opacity=\"1\" /><polyline clip-path=\"url(#clip002)\" style=\"stroke:#000000; stroke-linecap:round; stroke-linejoin:round; stroke-width:2; stroke-opacity:0.1; fill:none\" points=\"203.964,1384.24 2352.76,1384.24 \"/>\n",
       "<polyline clip-path=\"url(#clip002)\" style=\"stroke:#000000; stroke-linecap:round; stroke-linejoin:round; stroke-width:2; stroke-opacity:0.1; fill:none\" points=\"203.964,1124.63 2352.76,1124.63 \"/>\n",
       "<polyline clip-path=\"url(#clip002)\" style=\"stroke:#000000; stroke-linecap:round; stroke-linejoin:round; stroke-width:2; stroke-opacity:0.1; fill:none\" points=\"203.964,865.017 2352.76,865.017 \"/>\n",
       "<polyline clip-path=\"url(#clip002)\" style=\"stroke:#000000; stroke-linecap:round; stroke-linejoin:round; stroke-width:2; stroke-opacity:0.1; fill:none\" points=\"203.964,605.407 2352.76,605.407 \"/>\n",
       "<polyline clip-path=\"url(#clip002)\" style=\"stroke:#000000; stroke-linecap:round; stroke-linejoin:round; stroke-width:2; stroke-opacity:0.1; fill:none\" points=\"203.964,345.796 2352.76,345.796 \"/>\n",
       "<polyline clip-path=\"url(#clip002)\" style=\"stroke:#000000; stroke-linecap:round; stroke-linejoin:round; stroke-width:2; stroke-opacity:0.1; fill:none\" points=\"203.964,86.1857 2352.76,86.1857 \"/>\n",
       "<polyline clip-path=\"url(#clip000)\" style=\"stroke:#000000; stroke-linecap:round; stroke-linejoin:round; stroke-width:4; stroke-opacity:1; fill:none\" points=\"203.964,1423.18 203.964,47.2441 \"/>\n",
       "<polyline clip-path=\"url(#clip000)\" style=\"stroke:#000000; stroke-linecap:round; stroke-linejoin:round; stroke-width:4; stroke-opacity:1; fill:none\" points=\"203.964,1384.24 222.861,1384.24 \"/>\n",
       "<polyline clip-path=\"url(#clip000)\" style=\"stroke:#000000; stroke-linecap:round; stroke-linejoin:round; stroke-width:4; stroke-opacity:1; fill:none\" points=\"203.964,1124.63 222.861,1124.63 \"/>\n",
       "<polyline clip-path=\"url(#clip000)\" style=\"stroke:#000000; stroke-linecap:round; stroke-linejoin:round; stroke-width:4; stroke-opacity:1; fill:none\" points=\"203.964,865.017 222.861,865.017 \"/>\n",
       "<polyline clip-path=\"url(#clip000)\" style=\"stroke:#000000; stroke-linecap:round; stroke-linejoin:round; stroke-width:4; stroke-opacity:1; fill:none\" points=\"203.964,605.407 222.861,605.407 \"/>\n",
       "<polyline clip-path=\"url(#clip000)\" style=\"stroke:#000000; stroke-linecap:round; stroke-linejoin:round; stroke-width:4; stroke-opacity:1; fill:none\" points=\"203.964,345.796 222.861,345.796 \"/>\n",
       "<polyline clip-path=\"url(#clip000)\" style=\"stroke:#000000; stroke-linecap:round; stroke-linejoin:round; stroke-width:4; stroke-opacity:1; fill:none\" points=\"203.964,86.1857 222.861,86.1857 \"/>\n",
       "<path clip-path=\"url(#clip000)\" d=\"M156.019 1370.04 Q152.408 1370.04 150.579 1373.6 Q148.774 1377.14 148.774 1384.27 Q148.774 1391.38 150.579 1394.94 Q152.408 1398.49 156.019 1398.49 Q159.653 1398.49 161.459 1394.94 Q163.288 1391.38 163.288 1384.27 Q163.288 1377.14 161.459 1373.6 Q159.653 1370.04 156.019 1370.04 M156.019 1366.33 Q161.829 1366.33 164.885 1370.94 Q167.964 1375.52 167.964 1384.27 Q167.964 1393 164.885 1397.61 Q161.829 1402.19 156.019 1402.19 Q150.209 1402.19 147.13 1397.61 Q144.075 1393 144.075 1384.27 Q144.075 1375.52 147.13 1370.94 Q150.209 1366.33 156.019 1366.33 Z\" fill=\"#000000\" fill-rule=\"nonzero\" fill-opacity=\"1\" /><path clip-path=\"url(#clip000)\" d=\"M147.061 1107.35 L165.417 1107.35 L165.417 1111.28 L151.343 1111.28 L151.343 1119.76 Q152.362 1119.41 153.38 1119.25 Q154.399 1119.06 155.417 1119.06 Q161.204 1119.06 164.584 1122.23 Q167.964 1125.4 167.964 1130.82 Q167.964 1136.4 164.491 1139.5 Q161.019 1142.58 154.7 1142.58 Q152.524 1142.58 150.255 1142.21 Q148.01 1141.84 145.603 1141.1 L145.603 1136.4 Q147.686 1137.53 149.908 1138.09 Q152.13 1138.64 154.607 1138.64 Q158.612 1138.64 160.95 1136.54 Q163.288 1134.43 163.288 1130.82 Q163.288 1127.21 160.95 1125.1 Q158.612 1123 154.607 1123 Q152.732 1123 150.857 1123.41 Q149.005 1123.83 147.061 1124.71 L147.061 1107.35 Z\" fill=\"#000000\" fill-rule=\"nonzero\" fill-opacity=\"1\" /><path clip-path=\"url(#clip000)\" d=\"M116.668 878.362 L124.306 878.362 L124.306 851.996 L115.996 853.663 L115.996 849.404 L124.26 847.737 L128.936 847.737 L128.936 878.362 L136.575 878.362 L136.575 882.297 L116.668 882.297 L116.668 878.362 Z\" fill=\"#000000\" fill-rule=\"nonzero\" fill-opacity=\"1\" /><path clip-path=\"url(#clip000)\" d=\"M156.019 850.816 Q152.408 850.816 150.579 854.381 Q148.774 857.922 148.774 865.052 Q148.774 872.158 150.579 875.723 Q152.408 879.265 156.019 879.265 Q159.653 879.265 161.459 875.723 Q163.288 872.158 163.288 865.052 Q163.288 857.922 161.459 854.381 Q159.653 850.816 156.019 850.816 M156.019 847.112 Q161.829 847.112 164.885 851.719 Q167.964 856.302 167.964 865.052 Q167.964 873.779 164.885 878.385 Q161.829 882.969 156.019 882.969 Q150.209 882.969 147.13 878.385 Q144.075 873.779 144.075 865.052 Q144.075 856.302 147.13 851.719 Q150.209 847.112 156.019 847.112 Z\" fill=\"#000000\" fill-rule=\"nonzero\" fill-opacity=\"1\" /><path clip-path=\"url(#clip000)\" d=\"M117.663 618.752 L125.302 618.752 L125.302 592.386 L116.992 594.053 L116.992 589.793 L125.255 588.127 L129.931 588.127 L129.931 618.752 L137.57 618.752 L137.57 622.687 L117.663 622.687 L117.663 618.752 Z\" fill=\"#000000\" fill-rule=\"nonzero\" fill-opacity=\"1\" /><path clip-path=\"url(#clip000)\" d=\"M147.061 588.127 L165.417 588.127 L165.417 592.062 L151.343 592.062 L151.343 600.534 Q152.362 600.187 153.38 600.025 Q154.399 599.84 155.417 599.84 Q161.204 599.84 164.584 603.011 Q167.964 606.182 167.964 611.599 Q167.964 617.177 164.491 620.279 Q161.019 623.358 154.7 623.358 Q152.524 623.358 150.255 622.988 Q148.01 622.617 145.603 621.877 L145.603 617.177 Q147.686 618.312 149.908 618.867 Q152.13 619.423 154.607 619.423 Q158.612 619.423 160.95 617.316 Q163.288 615.21 163.288 611.599 Q163.288 607.988 160.95 605.881 Q158.612 603.775 154.607 603.775 Q152.732 603.775 150.857 604.191 Q149.005 604.608 147.061 605.488 L147.061 588.127 Z\" fill=\"#000000\" fill-rule=\"nonzero\" fill-opacity=\"1\" /><path clip-path=\"url(#clip000)\" d=\"M119.885 359.141 L136.204 359.141 L136.204 363.076 L114.26 363.076 L114.26 359.141 Q116.922 356.386 121.505 351.757 Q126.112 347.104 127.292 345.761 Q129.538 343.238 130.417 341.502 Q131.32 339.743 131.32 338.053 Q131.32 335.299 129.376 333.562 Q127.455 331.826 124.353 331.826 Q122.154 331.826 119.7 332.59 Q117.269 333.354 114.492 334.905 L114.492 330.183 Q117.316 329.049 119.769 328.47 Q122.223 327.891 124.26 327.891 Q129.63 327.891 132.825 330.576 Q136.019 333.262 136.019 337.752 Q136.019 339.882 135.209 341.803 Q134.422 343.701 132.316 346.294 Q131.737 346.965 128.635 350.183 Q125.533 353.377 119.885 359.141 Z\" fill=\"#000000\" fill-rule=\"nonzero\" fill-opacity=\"1\" /><path clip-path=\"url(#clip000)\" d=\"M156.019 331.595 Q152.408 331.595 150.579 335.16 Q148.774 338.701 148.774 345.831 Q148.774 352.937 150.579 356.502 Q152.408 360.044 156.019 360.044 Q159.653 360.044 161.459 356.502 Q163.288 352.937 163.288 345.831 Q163.288 338.701 161.459 335.16 Q159.653 331.595 156.019 331.595 M156.019 327.891 Q161.829 327.891 164.885 332.498 Q167.964 337.081 167.964 345.831 Q167.964 354.558 164.885 359.164 Q161.829 363.747 156.019 363.747 Q150.209 363.747 147.13 359.164 Q144.075 354.558 144.075 345.831 Q144.075 337.081 147.13 332.498 Q150.209 327.891 156.019 327.891 Z\" fill=\"#000000\" fill-rule=\"nonzero\" fill-opacity=\"1\" /><path clip-path=\"url(#clip000)\" d=\"M120.88 99.5305 L137.2 99.5305 L137.2 103.466 L115.256 103.466 L115.256 99.5305 Q117.918 96.7759 122.501 92.1463 Q127.107 87.4935 128.288 86.151 Q130.533 83.6278 131.413 81.8917 Q132.316 80.1325 132.316 78.4427 Q132.316 75.688 130.371 73.9519 Q128.45 72.2158 125.348 72.2158 Q123.149 72.2158 120.695 72.9797 Q118.265 73.7436 115.487 75.2945 L115.487 70.5723 Q118.311 69.4381 120.765 68.8594 Q123.218 68.2807 125.255 68.2807 Q130.626 68.2807 133.82 70.9658 Q137.015 73.651 137.015 78.1417 Q137.015 80.2714 136.204 82.1926 Q135.417 84.0908 133.311 86.6834 Q132.732 87.3546 129.63 90.5722 Q126.529 93.7667 120.88 99.5305 Z\" fill=\"#000000\" fill-rule=\"nonzero\" fill-opacity=\"1\" /><path clip-path=\"url(#clip000)\" d=\"M147.061 68.9057 L165.417 68.9057 L165.417 72.8408 L151.343 72.8408 L151.343 81.313 Q152.362 80.9658 153.38 80.8038 Q154.399 80.6186 155.417 80.6186 Q161.204 80.6186 164.584 83.7899 Q167.964 86.9611 167.964 92.3778 Q167.964 97.9564 164.491 101.058 Q161.019 104.137 154.7 104.137 Q152.524 104.137 150.255 103.767 Q148.01 103.396 145.603 102.655 L145.603 97.9564 Q147.686 99.0907 149.908 99.6462 Q152.13 100.202 154.607 100.202 Q158.612 100.202 160.95 98.0953 Q163.288 95.9889 163.288 92.3778 Q163.288 88.7667 160.95 86.6602 Q158.612 84.5537 154.607 84.5537 Q152.732 84.5537 150.857 84.9704 Q149.005 85.3871 147.061 86.2667 L147.061 68.9057 Z\" fill=\"#000000\" fill-rule=\"nonzero\" fill-opacity=\"1\" /><path clip-path=\"url(#clip000)\" d=\"M18.0438 953.158 L24.314 953.158 Q22.5634 956.818 21.704 960.065 Q20.8447 963.311 20.8447 966.335 Q20.8447 971.587 22.8817 974.451 Q24.9187 977.284 28.6745 977.284 Q31.8255 977.284 33.4488 975.406 Q35.0402 973.496 36.0269 968.213 L36.8226 964.33 Q38.1912 957.136 41.6605 953.731 Q45.098 950.293 50.8908 950.293 Q57.7976 950.293 61.3624 954.94 Q64.9272 959.555 64.9272 968.499 Q64.9272 971.873 64.1633 975.692 Q63.3994 979.48 61.9035 983.554 L55.2831 983.554 Q57.4793 979.639 58.5933 975.883 Q59.7073 972.128 59.7073 968.499 Q59.7073 962.993 57.543 960.001 Q55.3786 957.009 51.3682 957.009 Q47.8671 957.009 45.8937 959.173 Q43.9204 961.306 42.9337 966.208 L42.1698 970.122 Q40.7375 977.316 37.682 980.53 Q34.6264 983.745 29.1837 983.745 Q22.8817 983.745 19.2532 979.321 Q15.6248 974.865 15.6248 967.067 Q15.6248 963.725 16.2295 960.256 Q16.8343 956.786 18.0438 953.158 Z\" fill=\"#000000\" fill-rule=\"nonzero\" fill-opacity=\"1\" /><path clip-path=\"url(#clip000)\" d=\"M46.212 937.021 Q52.6732 937.021 56.3653 934.379 Q60.0256 931.705 60.0256 927.058 Q60.0256 922.411 56.3653 919.738 Q52.6732 917.064 46.212 917.064 Q39.7508 917.064 36.0905 919.738 Q32.3984 922.411 32.3984 927.058 Q32.3984 931.705 36.0905 934.379 Q39.7508 937.021 46.212 937.021 M58.657 917.064 Q61.8398 918.91 63.3994 921.743 Q64.9272 924.544 64.9272 928.491 Q64.9272 934.952 59.771 939.026 Q54.6147 943.068 46.212 943.068 Q37.8093 943.068 32.6531 939.026 Q27.4968 934.952 27.4968 928.491 Q27.4968 924.544 29.0564 921.743 Q30.5842 918.91 33.7671 917.064 L28.3562 917.064 L28.3562 911.208 L77.5631 911.208 L77.5631 917.064 L58.657 917.064 Z\" fill=\"#000000\" fill-rule=\"nonzero\" fill-opacity=\"1\" /><path clip-path=\"url(#clip000)\" d=\"M49.9359 899.75 L28.3562 899.75 L28.3562 893.893 L49.7131 893.893 Q54.7739 893.893 57.3202 891.92 Q59.8346 889.946 59.8346 886 Q59.8346 881.257 56.8109 878.52 Q53.7872 875.751 48.5673 875.751 L28.3562 875.751 L28.3562 869.894 L64.0042 869.894 L64.0042 875.751 L58.5296 875.751 Q61.7762 877.883 63.3676 880.716 Q64.9272 883.517 64.9272 887.241 Q64.9272 893.384 61.1078 896.567 Q57.2883 899.75 49.9359 899.75 M27.4968 885.013 L27.4968 885.013 Z\" fill=\"#000000\" fill-rule=\"nonzero\" fill-opacity=\"1\" /><path clip-path=\"url(#clip000)\" d=\"M46.0847 841.631 Q46.0847 848.728 47.7079 851.466 Q49.3312 854.203 53.2461 854.203 Q56.3653 854.203 58.2114 852.166 Q60.0256 850.097 60.0256 846.564 Q60.0256 841.694 56.5881 838.766 Q53.1188 835.806 47.3897 835.806 L46.0847 835.806 L46.0847 841.631 M43.6657 829.95 L64.0042 829.95 L64.0042 835.806 L58.5933 835.806 Q61.8398 837.811 63.3994 840.803 Q64.9272 843.795 64.9272 848.124 Q64.9272 853.598 61.8716 856.845 Q58.7843 860.059 53.6281 860.059 Q47.6125 860.059 44.5569 856.049 Q41.5014 852.007 41.5014 844.018 L41.5014 835.806 L40.9285 835.806 Q36.8862 835.806 34.6901 838.48 Q32.4621 841.121 32.4621 845.928 Q32.4621 848.983 33.1941 851.879 Q33.9262 854.776 35.3903 857.449 L29.9795 857.449 Q28.7381 854.235 28.1334 851.211 Q27.4968 848.187 27.4968 845.323 Q27.4968 837.588 31.5072 833.769 Q35.5176 829.95 43.6657 829.95 Z\" fill=\"#000000\" fill-rule=\"nonzero\" fill-opacity=\"1\" /><path clip-path=\"url(#clip000)\" d=\"M33.8307 797.23 Q33.2578 798.217 33.0032 799.394 Q32.7167 800.54 32.7167 801.94 Q32.7167 806.906 35.9632 809.579 Q39.1779 812.221 45.2253 812.221 L64.0042 812.221 L64.0042 818.109 L28.3562 818.109 L28.3562 812.221 L33.8944 812.221 Q30.6479 810.375 29.0883 807.415 Q27.4968 804.455 27.4968 800.222 Q27.4968 799.617 27.5923 798.885 Q27.656 798.153 27.8151 797.262 L33.8307 797.23 Z\" fill=\"#000000\" fill-rule=\"nonzero\" fill-opacity=\"1\" /><path clip-path=\"url(#clip000)\" d=\"M44.7161 762.028 L47.5806 762.028 L47.5806 788.954 Q53.6281 788.573 56.8109 785.326 Q59.9619 782.048 59.9619 776.223 Q59.9619 772.849 59.1344 769.698 Q58.3069 766.515 56.6518 763.396 L62.1899 763.396 Q63.5267 766.547 64.227 769.857 Q64.9272 773.167 64.9272 776.573 Q64.9272 785.103 59.9619 790.1 Q54.9967 795.066 46.5303 795.066 Q37.7774 795.066 32.6531 790.355 Q27.4968 785.612 27.4968 777.592 Q27.4968 770.398 32.1438 766.229 Q36.7589 762.028 44.7161 762.028 M42.9973 767.884 Q38.1912 767.948 35.3266 770.589 Q32.4621 773.199 32.4621 777.528 Q32.4621 782.43 35.2312 785.39 Q38.0002 788.318 43.0292 788.763 L42.9973 767.884 Z\" fill=\"#000000\" fill-rule=\"nonzero\" fill-opacity=\"1\" /><path clip-path=\"url(#clip000)\" d=\"M33.7671 728.958 L14.479 728.958 L14.479 723.101 L64.0042 723.101 L64.0042 728.958 L58.657 728.958 Q61.8398 730.804 63.3994 733.636 Q64.9272 736.437 64.9272 740.384 Q64.9272 746.845 59.771 750.919 Q54.6147 754.962 46.212 754.962 Q37.8093 754.962 32.6531 750.919 Q27.4968 746.845 27.4968 740.384 Q27.4968 736.437 29.0564 733.636 Q30.5842 730.804 33.7671 728.958 M46.212 748.914 Q52.6732 748.914 56.3653 746.272 Q60.0256 743.599 60.0256 738.952 Q60.0256 734.305 56.3653 731.631 Q52.6732 728.958 46.212 728.958 Q39.7508 728.958 36.0905 731.631 Q32.3984 734.305 32.3984 738.952 Q32.3984 743.599 36.0905 746.272 Q39.7508 748.914 46.212 748.914 Z\" fill=\"#000000\" fill-rule=\"nonzero\" fill-opacity=\"1\" /><path clip-path=\"url(#clip000)\" d=\"M64.0042 677.809 L16.4842 695.951 L16.4842 689.236 L56.4926 674.181 L16.4842 659.094 L16.4842 652.41 L64.0042 670.52 L64.0042 677.809 Z\" fill=\"#000000\" fill-rule=\"nonzero\" fill-opacity=\"1\" /><path clip-path=\"url(#clip000)\" d=\"M46.0847 634.586 Q46.0847 641.684 47.7079 644.421 Q49.3312 647.158 53.2461 647.158 Q56.3653 647.158 58.2114 645.121 Q60.0256 643.052 60.0256 639.519 Q60.0256 634.65 56.5881 631.721 Q53.1188 628.761 47.3897 628.761 L46.0847 628.761 L46.0847 634.586 M43.6657 622.905 L64.0042 622.905 L64.0042 628.761 L58.5933 628.761 Q61.8398 630.767 63.3994 633.759 Q64.9272 636.75 64.9272 641.079 Q64.9272 646.554 61.8716 649.8 Q58.7843 653.015 53.6281 653.015 Q47.6125 653.015 44.5569 649.004 Q41.5014 644.962 41.5014 636.973 L41.5014 628.761 L40.9285 628.761 Q36.8862 628.761 34.6901 631.435 Q32.4621 634.077 32.4621 638.883 Q32.4621 641.938 33.1941 644.835 Q33.9262 647.731 35.3903 650.405 L29.9795 650.405 Q28.7381 647.19 28.1334 644.166 Q27.4968 641.143 27.4968 638.278 Q27.4968 630.544 31.5072 626.724 Q35.5176 622.905 43.6657 622.905 Z\" fill=\"#000000\" fill-rule=\"nonzero\" fill-opacity=\"1\" /><path clip-path=\"url(#clip000)\" d=\"M14.479 610.842 L14.479 604.986 L64.0042 604.986 L64.0042 610.842 L14.479 610.842 Z\" fill=\"#000000\" fill-rule=\"nonzero\" fill-opacity=\"1\" /><path clip-path=\"url(#clip000)\" d=\"M49.9359 593.336 L28.3562 593.336 L28.3562 587.48 L49.7131 587.48 Q54.7739 587.48 57.3202 585.506 Q59.8346 583.533 59.8346 579.586 Q59.8346 574.844 56.8109 572.107 Q53.7872 569.338 48.5673 569.338 L28.3562 569.338 L28.3562 563.481 L64.0042 563.481 L64.0042 569.338 L58.5296 569.338 Q61.7762 571.47 63.3676 574.303 Q64.9272 577.104 64.9272 580.828 Q64.9272 586.971 61.1078 590.153 Q57.2883 593.336 49.9359 593.336 M27.4968 578.6 L27.4968 578.6 Z\" fill=\"#000000\" fill-rule=\"nonzero\" fill-opacity=\"1\" /><path clip-path=\"url(#clip000)\" d=\"M44.7161 520.926 L47.5806 520.926 L47.5806 547.853 Q53.6281 547.471 56.8109 544.225 Q59.9619 540.947 59.9619 535.122 Q59.9619 531.748 59.1344 528.597 Q58.3069 525.414 56.6518 522.295 L62.1899 522.295 Q63.5267 525.446 64.227 528.756 Q64.9272 532.066 64.9272 535.472 Q64.9272 544.002 59.9619 548.999 Q54.9967 553.964 46.5303 553.964 Q37.7774 553.964 32.6531 549.254 Q27.4968 544.511 27.4968 536.491 Q27.4968 529.297 32.1438 525.128 Q36.7589 520.926 44.7161 520.926 M42.9973 526.783 Q38.1912 526.846 35.3266 529.488 Q32.4621 532.098 32.4621 536.427 Q32.4621 541.328 35.2312 544.289 Q38.0002 547.217 43.0292 547.662 L42.9973 526.783 Z\" fill=\"#000000\" fill-rule=\"nonzero\" fill-opacity=\"1\" /><path clip-path=\"url(#clip000)\" d=\"M29.4065 488.589 L34.9447 488.589 Q33.6716 491.071 33.035 493.745 Q32.3984 496.418 32.3984 499.283 Q32.3984 503.643 33.7352 505.84 Q35.072 508.004 37.7456 508.004 Q39.7826 508.004 40.9603 506.444 Q42.1061 504.885 43.1565 500.174 L43.6021 498.169 Q44.9389 491.931 47.3897 489.321 Q49.8086 486.679 54.1691 486.679 Q59.1344 486.679 62.0308 490.626 Q64.9272 494.541 64.9272 501.415 Q64.9272 504.28 64.3543 507.399 Q63.8132 510.487 62.6992 513.924 L56.6518 513.924 Q58.3387 510.678 59.198 507.527 Q60.0256 504.376 60.0256 501.288 Q60.0256 497.15 58.6251 494.922 Q57.1929 492.694 54.6147 492.694 Q52.2276 492.694 50.9545 494.318 Q49.6813 495.909 48.5037 501.352 L48.0262 503.389 Q46.8804 508.832 44.5251 511.25 Q42.138 513.669 38.0002 513.669 Q32.9713 513.669 30.2341 510.105 Q27.4968 506.54 27.4968 499.983 Q27.4968 496.737 27.9743 493.872 Q28.4517 491.008 29.4065 488.589 Z\" fill=\"#000000\" fill-rule=\"nonzero\" fill-opacity=\"1\" /><path clip-path=\"url(#clip002)\" d=\"M244.778 66.1857 L244.778 106.186 L284.778 106.186 L284.778 66.1857 L244.778 66.1857 Z\" fill=\"#000000\" fill-rule=\"evenodd\" fill-opacity=\"1\" stroke=\"none\"/>\n",
       "<path clip-path=\"url(#clip002)\" d=\"M447.495 533.485 L447.495 573.485 L487.495 573.485 L487.495 533.485 L447.495 533.485 Z\" fill=\"#000000\" fill-rule=\"evenodd\" fill-opacity=\"1\" stroke=\"none\"/>\n",
       "<path clip-path=\"url(#clip002)\" d=\"M650.211 896.939 L650.211 936.939 L690.211 936.939 L690.211 896.939 L650.211 896.939 Z\" fill=\"#000000\" fill-rule=\"evenodd\" fill-opacity=\"1\" stroke=\"none\"/>\n",
       "<path clip-path=\"url(#clip002)\" d=\"M852.927 1156.55 L852.927 1196.55 L892.927 1196.55 L892.927 1156.55 L852.927 1156.55 Z\" fill=\"#000000\" fill-rule=\"evenodd\" fill-opacity=\"1\" stroke=\"none\"/>\n",
       "<path clip-path=\"url(#clip002)\" d=\"M1055.64 1312.32 L1055.64 1352.32 L1095.64 1352.32 L1095.64 1312.32 L1055.64 1312.32 Z\" fill=\"#000000\" fill-rule=\"evenodd\" fill-opacity=\"1\" stroke=\"none\"/>\n",
       "<path clip-path=\"url(#clip002)\" d=\"M1258.36 1364.24 L1258.36 1404.24 L1298.36 1404.24 L1298.36 1364.24 L1258.36 1364.24 Z\" fill=\"#000000\" fill-rule=\"evenodd\" fill-opacity=\"1\" stroke=\"none\"/>\n",
       "<path clip-path=\"url(#clip002)\" d=\"M1461.08 1312.32 L1461.08 1352.32 L1501.08 1352.32 L1501.08 1312.32 L1461.08 1312.32 Z\" fill=\"#000000\" fill-rule=\"evenodd\" fill-opacity=\"1\" stroke=\"none\"/>\n",
       "<path clip-path=\"url(#clip002)\" d=\"M1663.79 1156.55 L1663.79 1196.55 L1703.79 1196.55 L1703.79 1156.55 L1663.79 1156.55 Z\" fill=\"#000000\" fill-rule=\"evenodd\" fill-opacity=\"1\" stroke=\"none\"/>\n",
       "<path clip-path=\"url(#clip002)\" d=\"M1866.51 896.939 L1866.51 936.939 L1906.51 936.939 L1906.51 896.939 L1866.51 896.939 Z\" fill=\"#000000\" fill-rule=\"evenodd\" fill-opacity=\"1\" stroke=\"none\"/>\n",
       "<path clip-path=\"url(#clip002)\" d=\"M2069.22 533.485 L2069.22 573.485 L2109.22 573.485 L2109.22 533.485 L2069.22 533.485 Z\" fill=\"#000000\" fill-rule=\"evenodd\" fill-opacity=\"1\" stroke=\"none\"/>\n",
       "<path clip-path=\"url(#clip002)\" d=\"M2271.94 66.1857 L2271.94 106.186 L2311.94 106.186 L2311.94 66.1857 L2271.94 66.1857 Z\" fill=\"#000000\" fill-rule=\"evenodd\" fill-opacity=\"1\" stroke=\"none\"/>\n",
       "<path clip-path=\"url(#clip000)\" d=\"M1776.41 1377.32 L2281.13 1377.32 L2281.13 1273.64 L1776.41 1273.64  Z\" fill=\"#ffffff\" fill-rule=\"evenodd\" fill-opacity=\"1\"/>\n",
       "<polyline clip-path=\"url(#clip000)\" style=\"stroke:#000000; stroke-linecap:round; stroke-linejoin:round; stroke-width:4; stroke-opacity:1; fill:none\" points=\"1776.41,1377.32 2281.13,1377.32 2281.13,1273.64 1776.41,1273.64 1776.41,1377.32 \"/>\n",
       "<path clip-path=\"url(#clip000)\" d=\"M1848.64 1302.2 L1848.64 1348.75 L1895.19 1348.75 L1895.19 1302.2 L1848.64 1302.2 Z\" fill=\"#000000\" fill-rule=\"evenodd\" fill-opacity=\"1\" stroke=\"none\"/>\n",
       "<path clip-path=\"url(#clip000)\" d=\"M1967.42 1308.2 L1972.09 1308.2 L1972.09 1342.76 L1967.42 1342.76 L1967.42 1308.2 Z\" fill=\"#000000\" fill-rule=\"nonzero\" fill-opacity=\"1\" /><path clip-path=\"url(#clip000)\" d=\"M2002.76 1327.11 L2002.76 1342.76 L1998.51 1342.76 L1998.51 1327.25 Q1998.51 1323.57 1997.07 1321.74 Q1995.64 1319.91 1992.76 1319.91 Q1989.32 1319.91 1987.32 1322.11 Q1985.33 1324.31 1985.33 1328.1 L1985.33 1342.76 L1981.05 1342.76 L1981.05 1316.83 L1985.33 1316.83 L1985.33 1320.86 Q1986.86 1318.52 1988.92 1317.36 Q1991.01 1316.2 1993.71 1316.2 Q1998.18 1316.2 2000.47 1318.98 Q2002.76 1321.74 2002.76 1327.11 Z\" fill=\"#000000\" fill-rule=\"nonzero\" fill-opacity=\"1\" /><path clip-path=\"url(#clip000)\" d=\"M2015.47 1309.47 L2015.47 1316.83 L2024.25 1316.83 L2024.25 1320.14 L2015.47 1320.14 L2015.47 1334.21 Q2015.47 1337.38 2016.33 1338.29 Q2017.21 1339.19 2019.87 1339.19 L2024.25 1339.19 L2024.25 1342.76 L2019.87 1342.76 Q2014.94 1342.76 2013.07 1340.93 Q2011.19 1339.07 2011.19 1334.21 L2011.19 1320.14 L2008.07 1320.14 L2008.07 1316.83 L2011.19 1316.83 L2011.19 1309.47 L2015.47 1309.47 Z\" fill=\"#000000\" fill-rule=\"nonzero\" fill-opacity=\"1\" /><path clip-path=\"url(#clip000)\" d=\"M2052.02 1328.73 L2052.02 1330.81 L2032.44 1330.81 Q2032.72 1335.21 2035.08 1337.52 Q2037.46 1339.82 2041.7 1339.82 Q2044.15 1339.82 2046.44 1339.21 Q2048.76 1338.61 2051.03 1337.41 L2051.03 1341.44 Q2048.74 1342.41 2046.33 1342.92 Q2043.92 1343.43 2041.44 1343.43 Q2035.24 1343.43 2031.61 1339.82 Q2028 1336.2 2028 1330.05 Q2028 1323.68 2031.42 1319.95 Q2034.87 1316.2 2040.7 1316.2 Q2045.94 1316.2 2048.97 1319.58 Q2052.02 1322.94 2052.02 1328.73 M2047.76 1327.48 Q2047.72 1323.98 2045.8 1321.9 Q2043.9 1319.82 2040.75 1319.82 Q2037.19 1319.82 2035.03 1321.83 Q2032.9 1323.84 2032.58 1327.5 L2047.76 1327.48 Z\" fill=\"#000000\" fill-rule=\"nonzero\" fill-opacity=\"1\" /><path clip-path=\"url(#clip000)\" d=\"M2076.07 1329.49 Q2076.07 1324.86 2074.15 1322.32 Q2072.26 1319.77 2068.81 1319.77 Q2065.38 1319.77 2063.46 1322.32 Q2061.56 1324.86 2061.56 1329.49 Q2061.56 1334.1 2063.46 1336.64 Q2065.38 1339.19 2068.81 1339.19 Q2072.26 1339.19 2074.15 1336.64 Q2076.07 1334.1 2076.07 1329.49 M2080.33 1339.54 Q2080.33 1346.16 2077.39 1349.38 Q2074.45 1352.62 2068.39 1352.62 Q2066.14 1352.62 2064.15 1352.27 Q2062.16 1351.95 2060.29 1351.25 L2060.29 1347.11 Q2062.16 1348.13 2063.99 1348.61 Q2065.82 1349.1 2067.72 1349.1 Q2071.91 1349.1 2073.99 1346.9 Q2076.07 1344.72 2076.07 1340.3 L2076.07 1338.2 Q2074.76 1340.49 2072.69 1341.62 Q2070.63 1342.76 2067.76 1342.76 Q2063 1342.76 2060.08 1339.12 Q2057.16 1335.49 2057.16 1329.49 Q2057.16 1323.47 2060.08 1319.84 Q2063 1316.2 2067.76 1316.2 Q2070.63 1316.2 2072.69 1317.34 Q2074.76 1318.47 2076.07 1320.76 L2076.07 1316.83 L2080.33 1316.83 L2080.33 1339.54 Z\" fill=\"#000000\" fill-rule=\"nonzero\" fill-opacity=\"1\" /><path clip-path=\"url(#clip000)\" d=\"M2111.28 1328.73 L2111.28 1330.81 L2091.7 1330.81 Q2091.98 1335.21 2094.34 1337.52 Q2096.72 1339.82 2100.96 1339.82 Q2103.41 1339.82 2105.7 1339.21 Q2108.02 1338.61 2110.29 1337.41 L2110.29 1341.44 Q2108 1342.41 2105.59 1342.92 Q2103.18 1343.43 2100.7 1343.43 Q2094.5 1343.43 2090.87 1339.82 Q2087.25 1336.2 2087.25 1330.05 Q2087.25 1323.68 2090.68 1319.95 Q2094.13 1316.2 2099.96 1316.2 Q2105.19 1316.2 2108.23 1319.58 Q2111.28 1322.94 2111.28 1328.73 M2107.02 1327.48 Q2106.98 1323.98 2105.06 1321.9 Q2103.16 1319.82 2100.01 1319.82 Q2096.44 1319.82 2094.29 1321.83 Q2092.16 1323.84 2091.84 1327.5 L2107.02 1327.48 Z\" fill=\"#000000\" fill-rule=\"nonzero\" fill-opacity=\"1\" /><path clip-path=\"url(#clip000)\" d=\"M2133.3 1320.81 Q2132.58 1320.39 2131.72 1320.21 Q2130.89 1320 2129.87 1320 Q2126.26 1320 2124.31 1322.36 Q2122.39 1324.7 2122.39 1329.1 L2122.39 1342.76 L2118.11 1342.76 L2118.11 1316.83 L2122.39 1316.83 L2122.39 1320.86 Q2123.74 1318.5 2125.89 1317.36 Q2128.04 1316.2 2131.12 1316.2 Q2131.56 1316.2 2132.09 1316.27 Q2132.63 1316.32 2133.27 1316.44 L2133.3 1320.81 Z\" fill=\"#000000\" fill-rule=\"nonzero\" fill-opacity=\"1\" /><path clip-path=\"url(#clip000)\" d=\"M2157.69 1312.04 L2157.69 1338.91 L2163.34 1338.91 Q2170.5 1338.91 2173.81 1335.67 Q2177.14 1332.43 2177.14 1325.44 Q2177.14 1318.5 2173.81 1315.28 Q2170.5 1312.04 2163.34 1312.04 L2157.69 1312.04 M2153.02 1308.2 L2162.62 1308.2 Q2172.67 1308.2 2177.37 1312.39 Q2182.07 1316.55 2182.07 1325.44 Q2182.07 1334.38 2177.35 1338.57 Q2172.62 1342.76 2162.62 1342.76 L2153.02 1342.76 L2153.02 1308.2 Z\" fill=\"#000000\" fill-rule=\"nonzero\" fill-opacity=\"1\" /><path clip-path=\"url(#clip000)\" d=\"M2201.12 1329.72 Q2195.96 1329.72 2193.97 1330.9 Q2191.98 1332.08 2191.98 1334.93 Q2191.98 1337.2 2193.46 1338.54 Q2194.96 1339.86 2197.53 1339.86 Q2201.07 1339.86 2203.2 1337.36 Q2205.36 1334.84 2205.36 1330.67 L2205.36 1329.72 L2201.12 1329.72 M2209.62 1327.96 L2209.62 1342.76 L2205.36 1342.76 L2205.36 1338.82 Q2203.9 1341.18 2201.72 1342.32 Q2199.55 1343.43 2196.4 1343.43 Q2192.42 1343.43 2190.06 1341.2 Q2187.72 1338.96 2187.72 1335.21 Q2187.72 1330.83 2190.63 1328.61 Q2193.57 1326.39 2199.38 1326.39 L2205.36 1326.39 L2205.36 1325.97 Q2205.36 1323.03 2203.41 1321.44 Q2201.49 1319.82 2198 1319.82 Q2195.77 1319.82 2193.67 1320.35 Q2191.56 1320.88 2189.62 1321.95 L2189.62 1318.01 Q2191.95 1317.11 2194.15 1316.67 Q2196.35 1316.2 2198.43 1316.2 Q2204.06 1316.2 2206.84 1319.12 Q2209.62 1322.04 2209.62 1327.96 Z\" fill=\"#000000\" fill-rule=\"nonzero\" fill-opacity=\"1\" /><path clip-path=\"url(#clip000)\" d=\"M2222.6 1309.47 L2222.6 1316.83 L2231.37 1316.83 L2231.37 1320.14 L2222.6 1320.14 L2222.6 1334.21 Q2222.6 1337.38 2223.46 1338.29 Q2224.34 1339.19 2227 1339.19 L2231.37 1339.19 L2231.37 1342.76 L2227 1342.76 Q2222.07 1342.76 2220.19 1340.93 Q2218.32 1339.07 2218.32 1334.21 L2218.32 1320.14 L2215.19 1320.14 L2215.19 1316.83 L2218.32 1316.83 L2218.32 1309.47 L2222.6 1309.47 Z\" fill=\"#000000\" fill-rule=\"nonzero\" fill-opacity=\"1\" /><path clip-path=\"url(#clip000)\" d=\"M2248.76 1329.72 Q2243.6 1329.72 2241.61 1330.9 Q2239.62 1332.08 2239.62 1334.93 Q2239.62 1337.2 2241.1 1338.54 Q2242.6 1339.86 2245.17 1339.86 Q2248.71 1339.86 2250.84 1337.36 Q2252.99 1334.84 2252.99 1330.67 L2252.99 1329.72 L2248.76 1329.72 M2257.25 1327.96 L2257.25 1342.76 L2252.99 1342.76 L2252.99 1338.82 Q2251.54 1341.18 2249.36 1342.32 Q2247.18 1343.43 2244.04 1343.43 Q2240.06 1343.43 2237.69 1341.2 Q2235.36 1338.96 2235.36 1335.21 Q2235.36 1330.83 2238.27 1328.61 Q2241.21 1326.39 2247.02 1326.39 L2252.99 1326.39 L2252.99 1325.97 Q2252.99 1323.03 2251.05 1321.44 Q2249.13 1319.82 2245.63 1319.82 Q2243.41 1319.82 2241.31 1320.35 Q2239.2 1320.88 2237.25 1321.95 L2237.25 1318.01 Q2239.59 1317.11 2241.79 1316.67 Q2243.99 1316.2 2246.07 1316.2 Q2251.7 1316.2 2254.48 1319.12 Q2257.25 1322.04 2257.25 1327.96 Z\" fill=\"#000000\" fill-rule=\"nonzero\" fill-opacity=\"1\" /></svg>\n"
      ],
      "text/html": [
       "<?xml version=\"1.0\" encoding=\"utf-8\"?>\n",
       "<svg xmlns=\"http://www.w3.org/2000/svg\" xmlns:xlink=\"http://www.w3.org/1999/xlink\" width=\"600\" height=\"400\" viewBox=\"0 0 2400 1600\">\n",
       "<defs>\n",
       "  <clipPath id=\"clip050\">\n",
       "    <rect x=\"0\" y=\"0\" width=\"2400\" height=\"1600\"/>\n",
       "  </clipPath>\n",
       "</defs>\n",
       "<path clip-path=\"url(#clip050)\" d=\"M0 1600 L2400 1600 L2400 0 L0 0  Z\" fill=\"#ffffff\" fill-rule=\"evenodd\" fill-opacity=\"1\"/>\n",
       "<defs>\n",
       "  <clipPath id=\"clip051\">\n",
       "    <rect x=\"480\" y=\"0\" width=\"1681\" height=\"1600\"/>\n",
       "  </clipPath>\n",
       "</defs>\n",
       "<path clip-path=\"url(#clip050)\" d=\"M203.964 1423.18 L2352.76 1423.18 L2352.76 47.2441 L203.964 47.2441  Z\" fill=\"#ffffff\" fill-rule=\"evenodd\" fill-opacity=\"1\"/>\n",
       "<defs>\n",
       "  <clipPath id=\"clip052\">\n",
       "    <rect x=\"203\" y=\"47\" width=\"2150\" height=\"1377\"/>\n",
       "  </clipPath>\n",
       "</defs>\n",
       "<polyline clip-path=\"url(#clip052)\" style=\"stroke:#000000; stroke-linecap:round; stroke-linejoin:round; stroke-width:2; stroke-opacity:0.1; fill:none\" points=\"467.495,1423.18 467.495,47.2441 \"/>\n",
       "<polyline clip-path=\"url(#clip052)\" style=\"stroke:#000000; stroke-linecap:round; stroke-linejoin:round; stroke-width:2; stroke-opacity:0.1; fill:none\" points=\"872.927,1423.18 872.927,47.2441 \"/>\n",
       "<polyline clip-path=\"url(#clip052)\" style=\"stroke:#000000; stroke-linecap:round; stroke-linejoin:round; stroke-width:2; stroke-opacity:0.1; fill:none\" points=\"1278.36,1423.18 1278.36,47.2441 \"/>\n",
       "<polyline clip-path=\"url(#clip052)\" style=\"stroke:#000000; stroke-linecap:round; stroke-linejoin:round; stroke-width:2; stroke-opacity:0.1; fill:none\" points=\"1683.79,1423.18 1683.79,47.2441 \"/>\n",
       "<polyline clip-path=\"url(#clip052)\" style=\"stroke:#000000; stroke-linecap:round; stroke-linejoin:round; stroke-width:2; stroke-opacity:0.1; fill:none\" points=\"2089.22,1423.18 2089.22,47.2441 \"/>\n",
       "<polyline clip-path=\"url(#clip050)\" style=\"stroke:#000000; stroke-linecap:round; stroke-linejoin:round; stroke-width:4; stroke-opacity:1; fill:none\" points=\"203.964,1423.18 2352.76,1423.18 \"/>\n",
       "<polyline clip-path=\"url(#clip050)\" style=\"stroke:#000000; stroke-linecap:round; stroke-linejoin:round; stroke-width:4; stroke-opacity:1; fill:none\" points=\"467.495,1423.18 467.495,1404.28 \"/>\n",
       "<polyline clip-path=\"url(#clip050)\" style=\"stroke:#000000; stroke-linecap:round; stroke-linejoin:round; stroke-width:4; stroke-opacity:1; fill:none\" points=\"872.927,1423.18 872.927,1404.28 \"/>\n",
       "<polyline clip-path=\"url(#clip050)\" style=\"stroke:#000000; stroke-linecap:round; stroke-linejoin:round; stroke-width:4; stroke-opacity:1; fill:none\" points=\"1278.36,1423.18 1278.36,1404.28 \"/>\n",
       "<polyline clip-path=\"url(#clip050)\" style=\"stroke:#000000; stroke-linecap:round; stroke-linejoin:round; stroke-width:4; stroke-opacity:1; fill:none\" points=\"1683.79,1423.18 1683.79,1404.28 \"/>\n",
       "<polyline clip-path=\"url(#clip050)\" style=\"stroke:#000000; stroke-linecap:round; stroke-linejoin:round; stroke-width:4; stroke-opacity:1; fill:none\" points=\"2089.22,1423.18 2089.22,1404.28 \"/>\n",
       "<path clip-path=\"url(#clip050)\" d=\"M436.395 1468.75 L466.071 1468.75 L466.071 1472.69 L436.395 1472.69 L436.395 1468.75 Z\" fill=\"#000000\" fill-rule=\"nonzero\" fill-opacity=\"1\" /><path clip-path=\"url(#clip050)\" d=\"M489.011 1455.09 L477.205 1473.54 L489.011 1473.54 L489.011 1455.09 M487.784 1451.02 L493.664 1451.02 L493.664 1473.54 L498.594 1473.54 L498.594 1477.43 L493.664 1477.43 L493.664 1485.58 L489.011 1485.58 L489.011 1477.43 L473.409 1477.43 L473.409 1472.92 L487.784 1451.02 Z\" fill=\"#000000\" fill-rule=\"nonzero\" fill-opacity=\"1\" /><path clip-path=\"url(#clip050)\" d=\"M842.87 1468.75 L872.545 1468.75 L872.545 1472.69 L842.87 1472.69 L842.87 1468.75 Z\" fill=\"#000000\" fill-rule=\"nonzero\" fill-opacity=\"1\" /><path clip-path=\"url(#clip050)\" d=\"M886.666 1481.64 L902.985 1481.64 L902.985 1485.58 L881.041 1485.58 L881.041 1481.64 Q883.703 1478.89 888.286 1474.26 Q892.892 1469.61 894.073 1468.27 Q896.318 1465.74 897.198 1464.01 Q898.101 1462.25 898.101 1460.56 Q898.101 1457.8 896.156 1456.07 Q894.235 1454.33 891.133 1454.33 Q888.934 1454.33 886.48 1455.09 Q884.05 1455.86 881.272 1457.41 L881.272 1452.69 Q884.096 1451.55 886.55 1450.97 Q889.004 1450.39 891.041 1450.39 Q896.411 1450.39 899.605 1453.08 Q902.8 1455.77 902.8 1460.26 Q902.8 1462.39 901.99 1464.31 Q901.203 1466.2 899.096 1468.8 Q898.517 1469.47 895.416 1472.69 Q892.314 1475.88 886.666 1481.64 Z\" fill=\"#000000\" fill-rule=\"nonzero\" fill-opacity=\"1\" /><path clip-path=\"url(#clip050)\" d=\"M1278.36 1454.1 Q1274.75 1454.1 1272.92 1457.66 Q1271.11 1461.2 1271.11 1468.33 Q1271.11 1475.44 1272.92 1479.01 Q1274.75 1482.55 1278.36 1482.55 Q1281.99 1482.55 1283.8 1479.01 Q1285.63 1475.44 1285.63 1468.33 Q1285.63 1461.2 1283.8 1457.66 Q1281.99 1454.1 1278.36 1454.1 M1278.36 1450.39 Q1284.17 1450.39 1287.23 1455 Q1290.3 1459.58 1290.3 1468.33 Q1290.3 1477.06 1287.23 1481.67 Q1284.17 1486.25 1278.36 1486.25 Q1272.55 1486.25 1269.47 1481.67 Q1266.42 1477.06 1266.42 1468.33 Q1266.42 1459.58 1269.47 1455 Q1272.55 1450.39 1278.36 1450.39 Z\" fill=\"#000000\" fill-rule=\"nonzero\" fill-opacity=\"1\" /><path clip-path=\"url(#clip050)\" d=\"M1678.45 1481.64 L1694.76 1481.64 L1694.76 1485.58 L1672.82 1485.58 L1672.82 1481.64 Q1675.48 1478.89 1680.07 1474.26 Q1684.67 1469.61 1685.85 1468.27 Q1688.1 1465.74 1688.98 1464.01 Q1689.88 1462.25 1689.88 1460.56 Q1689.88 1457.8 1687.94 1456.07 Q1686.01 1454.33 1682.91 1454.33 Q1680.71 1454.33 1678.26 1455.09 Q1675.83 1455.86 1673.05 1457.41 L1673.05 1452.69 Q1675.88 1451.55 1678.33 1450.97 Q1680.78 1450.39 1682.82 1450.39 Q1688.19 1450.39 1691.38 1453.08 Q1694.58 1455.77 1694.58 1460.26 Q1694.58 1462.39 1693.77 1464.31 Q1692.98 1466.2 1690.88 1468.8 Q1690.3 1469.47 1687.2 1472.69 Q1684.09 1475.88 1678.45 1481.64 Z\" fill=\"#000000\" fill-rule=\"nonzero\" fill-opacity=\"1\" /><path clip-path=\"url(#clip050)\" d=\"M2092.23 1455.09 L2080.43 1473.54 L2092.23 1473.54 L2092.23 1455.09 M2091.01 1451.02 L2096.89 1451.02 L2096.89 1473.54 L2101.82 1473.54 L2101.82 1477.43 L2096.89 1477.43 L2096.89 1485.58 L2092.23 1485.58 L2092.23 1477.43 L2076.63 1477.43 L2076.63 1472.92 L2091.01 1451.02 Z\" fill=\"#000000\" fill-rule=\"nonzero\" fill-opacity=\"1\" /><path clip-path=\"url(#clip050)\" d=\"M1294.97 1532.4 L1282.08 1549.74 L1295.64 1568.04 L1288.74 1568.04 L1278.36 1554.04 L1267.98 1568.04 L1261.08 1568.04 L1274.92 1549.39 L1262.25 1532.4 L1269.16 1532.4 L1278.61 1545.1 L1288.07 1532.4 L1294.97 1532.4 Z\" fill=\"#000000\" fill-rule=\"nonzero\" fill-opacity=\"1\" /><polyline clip-path=\"url(#clip052)\" style=\"stroke:#000000; stroke-linecap:round; stroke-linejoin:round; stroke-width:2; stroke-opacity:0.1; fill:none\" points=\"203.964,1384.24 2352.76,1384.24 \"/>\n",
       "<polyline clip-path=\"url(#clip052)\" style=\"stroke:#000000; stroke-linecap:round; stroke-linejoin:round; stroke-width:2; stroke-opacity:0.1; fill:none\" points=\"203.964,1124.63 2352.76,1124.63 \"/>\n",
       "<polyline clip-path=\"url(#clip052)\" style=\"stroke:#000000; stroke-linecap:round; stroke-linejoin:round; stroke-width:2; stroke-opacity:0.1; fill:none\" points=\"203.964,865.017 2352.76,865.017 \"/>\n",
       "<polyline clip-path=\"url(#clip052)\" style=\"stroke:#000000; stroke-linecap:round; stroke-linejoin:round; stroke-width:2; stroke-opacity:0.1; fill:none\" points=\"203.964,605.407 2352.76,605.407 \"/>\n",
       "<polyline clip-path=\"url(#clip052)\" style=\"stroke:#000000; stroke-linecap:round; stroke-linejoin:round; stroke-width:2; stroke-opacity:0.1; fill:none\" points=\"203.964,345.796 2352.76,345.796 \"/>\n",
       "<polyline clip-path=\"url(#clip052)\" style=\"stroke:#000000; stroke-linecap:round; stroke-linejoin:round; stroke-width:2; stroke-opacity:0.1; fill:none\" points=\"203.964,86.1857 2352.76,86.1857 \"/>\n",
       "<polyline clip-path=\"url(#clip050)\" style=\"stroke:#000000; stroke-linecap:round; stroke-linejoin:round; stroke-width:4; stroke-opacity:1; fill:none\" points=\"203.964,1423.18 203.964,47.2441 \"/>\n",
       "<polyline clip-path=\"url(#clip050)\" style=\"stroke:#000000; stroke-linecap:round; stroke-linejoin:round; stroke-width:4; stroke-opacity:1; fill:none\" points=\"203.964,1384.24 222.861,1384.24 \"/>\n",
       "<polyline clip-path=\"url(#clip050)\" style=\"stroke:#000000; stroke-linecap:round; stroke-linejoin:round; stroke-width:4; stroke-opacity:1; fill:none\" points=\"203.964,1124.63 222.861,1124.63 \"/>\n",
       "<polyline clip-path=\"url(#clip050)\" style=\"stroke:#000000; stroke-linecap:round; stroke-linejoin:round; stroke-width:4; stroke-opacity:1; fill:none\" points=\"203.964,865.017 222.861,865.017 \"/>\n",
       "<polyline clip-path=\"url(#clip050)\" style=\"stroke:#000000; stroke-linecap:round; stroke-linejoin:round; stroke-width:4; stroke-opacity:1; fill:none\" points=\"203.964,605.407 222.861,605.407 \"/>\n",
       "<polyline clip-path=\"url(#clip050)\" style=\"stroke:#000000; stroke-linecap:round; stroke-linejoin:round; stroke-width:4; stroke-opacity:1; fill:none\" points=\"203.964,345.796 222.861,345.796 \"/>\n",
       "<polyline clip-path=\"url(#clip050)\" style=\"stroke:#000000; stroke-linecap:round; stroke-linejoin:round; stroke-width:4; stroke-opacity:1; fill:none\" points=\"203.964,86.1857 222.861,86.1857 \"/>\n",
       "<path clip-path=\"url(#clip050)\" d=\"M156.019 1370.04 Q152.408 1370.04 150.579 1373.6 Q148.774 1377.14 148.774 1384.27 Q148.774 1391.38 150.579 1394.94 Q152.408 1398.49 156.019 1398.49 Q159.653 1398.49 161.459 1394.94 Q163.288 1391.38 163.288 1384.27 Q163.288 1377.14 161.459 1373.6 Q159.653 1370.04 156.019 1370.04 M156.019 1366.33 Q161.829 1366.33 164.885 1370.94 Q167.964 1375.52 167.964 1384.27 Q167.964 1393 164.885 1397.61 Q161.829 1402.19 156.019 1402.19 Q150.209 1402.19 147.13 1397.61 Q144.075 1393 144.075 1384.27 Q144.075 1375.52 147.13 1370.94 Q150.209 1366.33 156.019 1366.33 Z\" fill=\"#000000\" fill-rule=\"nonzero\" fill-opacity=\"1\" /><path clip-path=\"url(#clip050)\" d=\"M147.061 1107.35 L165.417 1107.35 L165.417 1111.28 L151.343 1111.28 L151.343 1119.76 Q152.362 1119.41 153.38 1119.25 Q154.399 1119.06 155.417 1119.06 Q161.204 1119.06 164.584 1122.23 Q167.964 1125.4 167.964 1130.82 Q167.964 1136.4 164.491 1139.5 Q161.019 1142.58 154.7 1142.58 Q152.524 1142.58 150.255 1142.21 Q148.01 1141.84 145.603 1141.1 L145.603 1136.4 Q147.686 1137.53 149.908 1138.09 Q152.13 1138.64 154.607 1138.64 Q158.612 1138.64 160.95 1136.54 Q163.288 1134.43 163.288 1130.82 Q163.288 1127.21 160.95 1125.1 Q158.612 1123 154.607 1123 Q152.732 1123 150.857 1123.41 Q149.005 1123.83 147.061 1124.71 L147.061 1107.35 Z\" fill=\"#000000\" fill-rule=\"nonzero\" fill-opacity=\"1\" /><path clip-path=\"url(#clip050)\" d=\"M116.668 878.362 L124.306 878.362 L124.306 851.996 L115.996 853.663 L115.996 849.404 L124.26 847.737 L128.936 847.737 L128.936 878.362 L136.575 878.362 L136.575 882.297 L116.668 882.297 L116.668 878.362 Z\" fill=\"#000000\" fill-rule=\"nonzero\" fill-opacity=\"1\" /><path clip-path=\"url(#clip050)\" d=\"M156.019 850.816 Q152.408 850.816 150.579 854.381 Q148.774 857.922 148.774 865.052 Q148.774 872.158 150.579 875.723 Q152.408 879.265 156.019 879.265 Q159.653 879.265 161.459 875.723 Q163.288 872.158 163.288 865.052 Q163.288 857.922 161.459 854.381 Q159.653 850.816 156.019 850.816 M156.019 847.112 Q161.829 847.112 164.885 851.719 Q167.964 856.302 167.964 865.052 Q167.964 873.779 164.885 878.385 Q161.829 882.969 156.019 882.969 Q150.209 882.969 147.13 878.385 Q144.075 873.779 144.075 865.052 Q144.075 856.302 147.13 851.719 Q150.209 847.112 156.019 847.112 Z\" fill=\"#000000\" fill-rule=\"nonzero\" fill-opacity=\"1\" /><path clip-path=\"url(#clip050)\" d=\"M117.663 618.752 L125.302 618.752 L125.302 592.386 L116.992 594.053 L116.992 589.793 L125.255 588.127 L129.931 588.127 L129.931 618.752 L137.57 618.752 L137.57 622.687 L117.663 622.687 L117.663 618.752 Z\" fill=\"#000000\" fill-rule=\"nonzero\" fill-opacity=\"1\" /><path clip-path=\"url(#clip050)\" d=\"M147.061 588.127 L165.417 588.127 L165.417 592.062 L151.343 592.062 L151.343 600.534 Q152.362 600.187 153.38 600.025 Q154.399 599.84 155.417 599.84 Q161.204 599.84 164.584 603.011 Q167.964 606.182 167.964 611.599 Q167.964 617.177 164.491 620.279 Q161.019 623.358 154.7 623.358 Q152.524 623.358 150.255 622.988 Q148.01 622.617 145.603 621.877 L145.603 617.177 Q147.686 618.312 149.908 618.867 Q152.13 619.423 154.607 619.423 Q158.612 619.423 160.95 617.316 Q163.288 615.21 163.288 611.599 Q163.288 607.988 160.95 605.881 Q158.612 603.775 154.607 603.775 Q152.732 603.775 150.857 604.191 Q149.005 604.608 147.061 605.488 L147.061 588.127 Z\" fill=\"#000000\" fill-rule=\"nonzero\" fill-opacity=\"1\" /><path clip-path=\"url(#clip050)\" d=\"M119.885 359.141 L136.204 359.141 L136.204 363.076 L114.26 363.076 L114.26 359.141 Q116.922 356.386 121.505 351.757 Q126.112 347.104 127.292 345.761 Q129.538 343.238 130.417 341.502 Q131.32 339.743 131.32 338.053 Q131.32 335.299 129.376 333.562 Q127.455 331.826 124.353 331.826 Q122.154 331.826 119.7 332.59 Q117.269 333.354 114.492 334.905 L114.492 330.183 Q117.316 329.049 119.769 328.47 Q122.223 327.891 124.26 327.891 Q129.63 327.891 132.825 330.576 Q136.019 333.262 136.019 337.752 Q136.019 339.882 135.209 341.803 Q134.422 343.701 132.316 346.294 Q131.737 346.965 128.635 350.183 Q125.533 353.377 119.885 359.141 Z\" fill=\"#000000\" fill-rule=\"nonzero\" fill-opacity=\"1\" /><path clip-path=\"url(#clip050)\" d=\"M156.019 331.595 Q152.408 331.595 150.579 335.16 Q148.774 338.701 148.774 345.831 Q148.774 352.937 150.579 356.502 Q152.408 360.044 156.019 360.044 Q159.653 360.044 161.459 356.502 Q163.288 352.937 163.288 345.831 Q163.288 338.701 161.459 335.16 Q159.653 331.595 156.019 331.595 M156.019 327.891 Q161.829 327.891 164.885 332.498 Q167.964 337.081 167.964 345.831 Q167.964 354.558 164.885 359.164 Q161.829 363.747 156.019 363.747 Q150.209 363.747 147.13 359.164 Q144.075 354.558 144.075 345.831 Q144.075 337.081 147.13 332.498 Q150.209 327.891 156.019 327.891 Z\" fill=\"#000000\" fill-rule=\"nonzero\" fill-opacity=\"1\" /><path clip-path=\"url(#clip050)\" d=\"M120.88 99.5305 L137.2 99.5305 L137.2 103.466 L115.256 103.466 L115.256 99.5305 Q117.918 96.7759 122.501 92.1463 Q127.107 87.4935 128.288 86.151 Q130.533 83.6278 131.413 81.8917 Q132.316 80.1325 132.316 78.4427 Q132.316 75.688 130.371 73.9519 Q128.45 72.2158 125.348 72.2158 Q123.149 72.2158 120.695 72.9797 Q118.265 73.7436 115.487 75.2945 L115.487 70.5723 Q118.311 69.4381 120.765 68.8594 Q123.218 68.2807 125.255 68.2807 Q130.626 68.2807 133.82 70.9658 Q137.015 73.651 137.015 78.1417 Q137.015 80.2714 136.204 82.1926 Q135.417 84.0908 133.311 86.6834 Q132.732 87.3546 129.63 90.5722 Q126.529 93.7667 120.88 99.5305 Z\" fill=\"#000000\" fill-rule=\"nonzero\" fill-opacity=\"1\" /><path clip-path=\"url(#clip050)\" d=\"M147.061 68.9057 L165.417 68.9057 L165.417 72.8408 L151.343 72.8408 L151.343 81.313 Q152.362 80.9658 153.38 80.8038 Q154.399 80.6186 155.417 80.6186 Q161.204 80.6186 164.584 83.7899 Q167.964 86.9611 167.964 92.3778 Q167.964 97.9564 164.491 101.058 Q161.019 104.137 154.7 104.137 Q152.524 104.137 150.255 103.767 Q148.01 103.396 145.603 102.655 L145.603 97.9564 Q147.686 99.0907 149.908 99.6462 Q152.13 100.202 154.607 100.202 Q158.612 100.202 160.95 98.0953 Q163.288 95.9889 163.288 92.3778 Q163.288 88.7667 160.95 86.6602 Q158.612 84.5537 154.607 84.5537 Q152.732 84.5537 150.857 84.9704 Q149.005 85.3871 147.061 86.2667 L147.061 68.9057 Z\" fill=\"#000000\" fill-rule=\"nonzero\" fill-opacity=\"1\" /><path clip-path=\"url(#clip050)\" d=\"M18.0438 953.158 L24.314 953.158 Q22.5634 956.818 21.704 960.065 Q20.8447 963.311 20.8447 966.335 Q20.8447 971.587 22.8817 974.451 Q24.9187 977.284 28.6745 977.284 Q31.8255 977.284 33.4488 975.406 Q35.0402 973.496 36.0269 968.213 L36.8226 964.33 Q38.1912 957.136 41.6605 953.731 Q45.098 950.293 50.8908 950.293 Q57.7976 950.293 61.3624 954.94 Q64.9272 959.555 64.9272 968.499 Q64.9272 971.873 64.1633 975.692 Q63.3994 979.48 61.9035 983.554 L55.2831 983.554 Q57.4793 979.639 58.5933 975.883 Q59.7073 972.128 59.7073 968.499 Q59.7073 962.993 57.543 960.001 Q55.3786 957.009 51.3682 957.009 Q47.8671 957.009 45.8937 959.173 Q43.9204 961.306 42.9337 966.208 L42.1698 970.122 Q40.7375 977.316 37.682 980.53 Q34.6264 983.745 29.1837 983.745 Q22.8817 983.745 19.2532 979.321 Q15.6248 974.865 15.6248 967.067 Q15.6248 963.725 16.2295 960.256 Q16.8343 956.786 18.0438 953.158 Z\" fill=\"#000000\" fill-rule=\"nonzero\" fill-opacity=\"1\" /><path clip-path=\"url(#clip050)\" d=\"M46.212 937.021 Q52.6732 937.021 56.3653 934.379 Q60.0256 931.705 60.0256 927.058 Q60.0256 922.411 56.3653 919.738 Q52.6732 917.064 46.212 917.064 Q39.7508 917.064 36.0905 919.738 Q32.3984 922.411 32.3984 927.058 Q32.3984 931.705 36.0905 934.379 Q39.7508 937.021 46.212 937.021 M58.657 917.064 Q61.8398 918.91 63.3994 921.743 Q64.9272 924.544 64.9272 928.491 Q64.9272 934.952 59.771 939.026 Q54.6147 943.068 46.212 943.068 Q37.8093 943.068 32.6531 939.026 Q27.4968 934.952 27.4968 928.491 Q27.4968 924.544 29.0564 921.743 Q30.5842 918.91 33.7671 917.064 L28.3562 917.064 L28.3562 911.208 L77.5631 911.208 L77.5631 917.064 L58.657 917.064 Z\" fill=\"#000000\" fill-rule=\"nonzero\" fill-opacity=\"1\" /><path clip-path=\"url(#clip050)\" d=\"M49.9359 899.75 L28.3562 899.75 L28.3562 893.893 L49.7131 893.893 Q54.7739 893.893 57.3202 891.92 Q59.8346 889.946 59.8346 886 Q59.8346 881.257 56.8109 878.52 Q53.7872 875.751 48.5673 875.751 L28.3562 875.751 L28.3562 869.894 L64.0042 869.894 L64.0042 875.751 L58.5296 875.751 Q61.7762 877.883 63.3676 880.716 Q64.9272 883.517 64.9272 887.241 Q64.9272 893.384 61.1078 896.567 Q57.2883 899.75 49.9359 899.75 M27.4968 885.013 L27.4968 885.013 Z\" fill=\"#000000\" fill-rule=\"nonzero\" fill-opacity=\"1\" /><path clip-path=\"url(#clip050)\" d=\"M46.0847 841.631 Q46.0847 848.728 47.7079 851.466 Q49.3312 854.203 53.2461 854.203 Q56.3653 854.203 58.2114 852.166 Q60.0256 850.097 60.0256 846.564 Q60.0256 841.694 56.5881 838.766 Q53.1188 835.806 47.3897 835.806 L46.0847 835.806 L46.0847 841.631 M43.6657 829.95 L64.0042 829.95 L64.0042 835.806 L58.5933 835.806 Q61.8398 837.811 63.3994 840.803 Q64.9272 843.795 64.9272 848.124 Q64.9272 853.598 61.8716 856.845 Q58.7843 860.059 53.6281 860.059 Q47.6125 860.059 44.5569 856.049 Q41.5014 852.007 41.5014 844.018 L41.5014 835.806 L40.9285 835.806 Q36.8862 835.806 34.6901 838.48 Q32.4621 841.121 32.4621 845.928 Q32.4621 848.983 33.1941 851.879 Q33.9262 854.776 35.3903 857.449 L29.9795 857.449 Q28.7381 854.235 28.1334 851.211 Q27.4968 848.187 27.4968 845.323 Q27.4968 837.588 31.5072 833.769 Q35.5176 829.95 43.6657 829.95 Z\" fill=\"#000000\" fill-rule=\"nonzero\" fill-opacity=\"1\" /><path clip-path=\"url(#clip050)\" d=\"M33.8307 797.23 Q33.2578 798.217 33.0032 799.394 Q32.7167 800.54 32.7167 801.94 Q32.7167 806.906 35.9632 809.579 Q39.1779 812.221 45.2253 812.221 L64.0042 812.221 L64.0042 818.109 L28.3562 818.109 L28.3562 812.221 L33.8944 812.221 Q30.6479 810.375 29.0883 807.415 Q27.4968 804.455 27.4968 800.222 Q27.4968 799.617 27.5923 798.885 Q27.656 798.153 27.8151 797.262 L33.8307 797.23 Z\" fill=\"#000000\" fill-rule=\"nonzero\" fill-opacity=\"1\" /><path clip-path=\"url(#clip050)\" d=\"M44.7161 762.028 L47.5806 762.028 L47.5806 788.954 Q53.6281 788.573 56.8109 785.326 Q59.9619 782.048 59.9619 776.223 Q59.9619 772.849 59.1344 769.698 Q58.3069 766.515 56.6518 763.396 L62.1899 763.396 Q63.5267 766.547 64.227 769.857 Q64.9272 773.167 64.9272 776.573 Q64.9272 785.103 59.9619 790.1 Q54.9967 795.066 46.5303 795.066 Q37.7774 795.066 32.6531 790.355 Q27.4968 785.612 27.4968 777.592 Q27.4968 770.398 32.1438 766.229 Q36.7589 762.028 44.7161 762.028 M42.9973 767.884 Q38.1912 767.948 35.3266 770.589 Q32.4621 773.199 32.4621 777.528 Q32.4621 782.43 35.2312 785.39 Q38.0002 788.318 43.0292 788.763 L42.9973 767.884 Z\" fill=\"#000000\" fill-rule=\"nonzero\" fill-opacity=\"1\" /><path clip-path=\"url(#clip050)\" d=\"M33.7671 728.958 L14.479 728.958 L14.479 723.101 L64.0042 723.101 L64.0042 728.958 L58.657 728.958 Q61.8398 730.804 63.3994 733.636 Q64.9272 736.437 64.9272 740.384 Q64.9272 746.845 59.771 750.919 Q54.6147 754.962 46.212 754.962 Q37.8093 754.962 32.6531 750.919 Q27.4968 746.845 27.4968 740.384 Q27.4968 736.437 29.0564 733.636 Q30.5842 730.804 33.7671 728.958 M46.212 748.914 Q52.6732 748.914 56.3653 746.272 Q60.0256 743.599 60.0256 738.952 Q60.0256 734.305 56.3653 731.631 Q52.6732 728.958 46.212 728.958 Q39.7508 728.958 36.0905 731.631 Q32.3984 734.305 32.3984 738.952 Q32.3984 743.599 36.0905 746.272 Q39.7508 748.914 46.212 748.914 Z\" fill=\"#000000\" fill-rule=\"nonzero\" fill-opacity=\"1\" /><path clip-path=\"url(#clip050)\" d=\"M64.0042 677.809 L16.4842 695.951 L16.4842 689.236 L56.4926 674.181 L16.4842 659.094 L16.4842 652.41 L64.0042 670.52 L64.0042 677.809 Z\" fill=\"#000000\" fill-rule=\"nonzero\" fill-opacity=\"1\" /><path clip-path=\"url(#clip050)\" d=\"M46.0847 634.586 Q46.0847 641.684 47.7079 644.421 Q49.3312 647.158 53.2461 647.158 Q56.3653 647.158 58.2114 645.121 Q60.0256 643.052 60.0256 639.519 Q60.0256 634.65 56.5881 631.721 Q53.1188 628.761 47.3897 628.761 L46.0847 628.761 L46.0847 634.586 M43.6657 622.905 L64.0042 622.905 L64.0042 628.761 L58.5933 628.761 Q61.8398 630.767 63.3994 633.759 Q64.9272 636.75 64.9272 641.079 Q64.9272 646.554 61.8716 649.8 Q58.7843 653.015 53.6281 653.015 Q47.6125 653.015 44.5569 649.004 Q41.5014 644.962 41.5014 636.973 L41.5014 628.761 L40.9285 628.761 Q36.8862 628.761 34.6901 631.435 Q32.4621 634.077 32.4621 638.883 Q32.4621 641.938 33.1941 644.835 Q33.9262 647.731 35.3903 650.405 L29.9795 650.405 Q28.7381 647.19 28.1334 644.166 Q27.4968 641.143 27.4968 638.278 Q27.4968 630.544 31.5072 626.724 Q35.5176 622.905 43.6657 622.905 Z\" fill=\"#000000\" fill-rule=\"nonzero\" fill-opacity=\"1\" /><path clip-path=\"url(#clip050)\" d=\"M14.479 610.842 L14.479 604.986 L64.0042 604.986 L64.0042 610.842 L14.479 610.842 Z\" fill=\"#000000\" fill-rule=\"nonzero\" fill-opacity=\"1\" /><path clip-path=\"url(#clip050)\" d=\"M49.9359 593.336 L28.3562 593.336 L28.3562 587.48 L49.7131 587.48 Q54.7739 587.48 57.3202 585.506 Q59.8346 583.533 59.8346 579.586 Q59.8346 574.844 56.8109 572.107 Q53.7872 569.338 48.5673 569.338 L28.3562 569.338 L28.3562 563.481 L64.0042 563.481 L64.0042 569.338 L58.5296 569.338 Q61.7762 571.47 63.3676 574.303 Q64.9272 577.104 64.9272 580.828 Q64.9272 586.971 61.1078 590.153 Q57.2883 593.336 49.9359 593.336 M27.4968 578.6 L27.4968 578.6 Z\" fill=\"#000000\" fill-rule=\"nonzero\" fill-opacity=\"1\" /><path clip-path=\"url(#clip050)\" d=\"M44.7161 520.926 L47.5806 520.926 L47.5806 547.853 Q53.6281 547.471 56.8109 544.225 Q59.9619 540.947 59.9619 535.122 Q59.9619 531.748 59.1344 528.597 Q58.3069 525.414 56.6518 522.295 L62.1899 522.295 Q63.5267 525.446 64.227 528.756 Q64.9272 532.066 64.9272 535.472 Q64.9272 544.002 59.9619 548.999 Q54.9967 553.964 46.5303 553.964 Q37.7774 553.964 32.6531 549.254 Q27.4968 544.511 27.4968 536.491 Q27.4968 529.297 32.1438 525.128 Q36.7589 520.926 44.7161 520.926 M42.9973 526.783 Q38.1912 526.846 35.3266 529.488 Q32.4621 532.098 32.4621 536.427 Q32.4621 541.328 35.2312 544.289 Q38.0002 547.217 43.0292 547.662 L42.9973 526.783 Z\" fill=\"#000000\" fill-rule=\"nonzero\" fill-opacity=\"1\" /><path clip-path=\"url(#clip050)\" d=\"M29.4065 488.589 L34.9447 488.589 Q33.6716 491.071 33.035 493.745 Q32.3984 496.418 32.3984 499.283 Q32.3984 503.643 33.7352 505.84 Q35.072 508.004 37.7456 508.004 Q39.7826 508.004 40.9603 506.444 Q42.1061 504.885 43.1565 500.174 L43.6021 498.169 Q44.9389 491.931 47.3897 489.321 Q49.8086 486.679 54.1691 486.679 Q59.1344 486.679 62.0308 490.626 Q64.9272 494.541 64.9272 501.415 Q64.9272 504.28 64.3543 507.399 Q63.8132 510.487 62.6992 513.924 L56.6518 513.924 Q58.3387 510.678 59.198 507.527 Q60.0256 504.376 60.0256 501.288 Q60.0256 497.15 58.6251 494.922 Q57.1929 492.694 54.6147 492.694 Q52.2276 492.694 50.9545 494.318 Q49.6813 495.909 48.5037 501.352 L48.0262 503.389 Q46.8804 508.832 44.5251 511.25 Q42.138 513.669 38.0002 513.669 Q32.9713 513.669 30.2341 510.105 Q27.4968 506.54 27.4968 499.983 Q27.4968 496.737 27.9743 493.872 Q28.4517 491.008 29.4065 488.589 Z\" fill=\"#000000\" fill-rule=\"nonzero\" fill-opacity=\"1\" /><path clip-path=\"url(#clip052)\" d=\"M244.778 66.1857 L244.778 106.186 L284.778 106.186 L284.778 66.1857 L244.778 66.1857 Z\" fill=\"#000000\" fill-rule=\"evenodd\" fill-opacity=\"1\" stroke=\"none\"/>\n",
       "<path clip-path=\"url(#clip052)\" d=\"M447.495 533.485 L447.495 573.485 L487.495 573.485 L487.495 533.485 L447.495 533.485 Z\" fill=\"#000000\" fill-rule=\"evenodd\" fill-opacity=\"1\" stroke=\"none\"/>\n",
       "<path clip-path=\"url(#clip052)\" d=\"M650.211 896.939 L650.211 936.939 L690.211 936.939 L690.211 896.939 L650.211 896.939 Z\" fill=\"#000000\" fill-rule=\"evenodd\" fill-opacity=\"1\" stroke=\"none\"/>\n",
       "<path clip-path=\"url(#clip052)\" d=\"M852.927 1156.55 L852.927 1196.55 L892.927 1196.55 L892.927 1156.55 L852.927 1156.55 Z\" fill=\"#000000\" fill-rule=\"evenodd\" fill-opacity=\"1\" stroke=\"none\"/>\n",
       "<path clip-path=\"url(#clip052)\" d=\"M1055.64 1312.32 L1055.64 1352.32 L1095.64 1352.32 L1095.64 1312.32 L1055.64 1312.32 Z\" fill=\"#000000\" fill-rule=\"evenodd\" fill-opacity=\"1\" stroke=\"none\"/>\n",
       "<path clip-path=\"url(#clip052)\" d=\"M1258.36 1364.24 L1258.36 1404.24 L1298.36 1404.24 L1298.36 1364.24 L1258.36 1364.24 Z\" fill=\"#000000\" fill-rule=\"evenodd\" fill-opacity=\"1\" stroke=\"none\"/>\n",
       "<path clip-path=\"url(#clip052)\" d=\"M1461.08 1312.32 L1461.08 1352.32 L1501.08 1352.32 L1501.08 1312.32 L1461.08 1312.32 Z\" fill=\"#000000\" fill-rule=\"evenodd\" fill-opacity=\"1\" stroke=\"none\"/>\n",
       "<path clip-path=\"url(#clip052)\" d=\"M1663.79 1156.55 L1663.79 1196.55 L1703.79 1196.55 L1703.79 1156.55 L1663.79 1156.55 Z\" fill=\"#000000\" fill-rule=\"evenodd\" fill-opacity=\"1\" stroke=\"none\"/>\n",
       "<path clip-path=\"url(#clip052)\" d=\"M1866.51 896.939 L1866.51 936.939 L1906.51 936.939 L1906.51 896.939 L1866.51 896.939 Z\" fill=\"#000000\" fill-rule=\"evenodd\" fill-opacity=\"1\" stroke=\"none\"/>\n",
       "<path clip-path=\"url(#clip052)\" d=\"M2069.22 533.485 L2069.22 573.485 L2109.22 573.485 L2109.22 533.485 L2069.22 533.485 Z\" fill=\"#000000\" fill-rule=\"evenodd\" fill-opacity=\"1\" stroke=\"none\"/>\n",
       "<path clip-path=\"url(#clip052)\" d=\"M2271.94 66.1857 L2271.94 106.186 L2311.94 106.186 L2311.94 66.1857 L2271.94 66.1857 Z\" fill=\"#000000\" fill-rule=\"evenodd\" fill-opacity=\"1\" stroke=\"none\"/>\n",
       "<path clip-path=\"url(#clip050)\" d=\"M1776.41 1377.32 L2281.13 1377.32 L2281.13 1273.64 L1776.41 1273.64  Z\" fill=\"#ffffff\" fill-rule=\"evenodd\" fill-opacity=\"1\"/>\n",
       "<polyline clip-path=\"url(#clip050)\" style=\"stroke:#000000; stroke-linecap:round; stroke-linejoin:round; stroke-width:4; stroke-opacity:1; fill:none\" points=\"1776.41,1377.32 2281.13,1377.32 2281.13,1273.64 1776.41,1273.64 1776.41,1377.32 \"/>\n",
       "<path clip-path=\"url(#clip050)\" d=\"M1848.64 1302.2 L1848.64 1348.75 L1895.19 1348.75 L1895.19 1302.2 L1848.64 1302.2 Z\" fill=\"#000000\" fill-rule=\"evenodd\" fill-opacity=\"1\" stroke=\"none\"/>\n",
       "<path clip-path=\"url(#clip050)\" d=\"M1967.42 1308.2 L1972.09 1308.2 L1972.09 1342.76 L1967.42 1342.76 L1967.42 1308.2 Z\" fill=\"#000000\" fill-rule=\"nonzero\" fill-opacity=\"1\" /><path clip-path=\"url(#clip050)\" d=\"M2002.76 1327.11 L2002.76 1342.76 L1998.51 1342.76 L1998.51 1327.25 Q1998.51 1323.57 1997.07 1321.74 Q1995.64 1319.91 1992.76 1319.91 Q1989.32 1319.91 1987.32 1322.11 Q1985.33 1324.31 1985.33 1328.1 L1985.33 1342.76 L1981.05 1342.76 L1981.05 1316.83 L1985.33 1316.83 L1985.33 1320.86 Q1986.86 1318.52 1988.92 1317.36 Q1991.01 1316.2 1993.71 1316.2 Q1998.18 1316.2 2000.47 1318.98 Q2002.76 1321.74 2002.76 1327.11 Z\" fill=\"#000000\" fill-rule=\"nonzero\" fill-opacity=\"1\" /><path clip-path=\"url(#clip050)\" d=\"M2015.47 1309.47 L2015.47 1316.83 L2024.25 1316.83 L2024.25 1320.14 L2015.47 1320.14 L2015.47 1334.21 Q2015.47 1337.38 2016.33 1338.29 Q2017.21 1339.19 2019.87 1339.19 L2024.25 1339.19 L2024.25 1342.76 L2019.87 1342.76 Q2014.94 1342.76 2013.07 1340.93 Q2011.19 1339.07 2011.19 1334.21 L2011.19 1320.14 L2008.07 1320.14 L2008.07 1316.83 L2011.19 1316.83 L2011.19 1309.47 L2015.47 1309.47 Z\" fill=\"#000000\" fill-rule=\"nonzero\" fill-opacity=\"1\" /><path clip-path=\"url(#clip050)\" d=\"M2052.02 1328.73 L2052.02 1330.81 L2032.44 1330.81 Q2032.72 1335.21 2035.08 1337.52 Q2037.46 1339.82 2041.7 1339.82 Q2044.15 1339.82 2046.44 1339.21 Q2048.76 1338.61 2051.03 1337.41 L2051.03 1341.44 Q2048.74 1342.41 2046.33 1342.92 Q2043.92 1343.43 2041.44 1343.43 Q2035.24 1343.43 2031.61 1339.82 Q2028 1336.2 2028 1330.05 Q2028 1323.68 2031.42 1319.95 Q2034.87 1316.2 2040.7 1316.2 Q2045.94 1316.2 2048.97 1319.58 Q2052.02 1322.94 2052.02 1328.73 M2047.76 1327.48 Q2047.72 1323.98 2045.8 1321.9 Q2043.9 1319.82 2040.75 1319.82 Q2037.19 1319.82 2035.03 1321.83 Q2032.9 1323.84 2032.58 1327.5 L2047.76 1327.48 Z\" fill=\"#000000\" fill-rule=\"nonzero\" fill-opacity=\"1\" /><path clip-path=\"url(#clip050)\" d=\"M2076.07 1329.49 Q2076.07 1324.86 2074.15 1322.32 Q2072.26 1319.77 2068.81 1319.77 Q2065.38 1319.77 2063.46 1322.32 Q2061.56 1324.86 2061.56 1329.49 Q2061.56 1334.1 2063.46 1336.64 Q2065.38 1339.19 2068.81 1339.19 Q2072.26 1339.19 2074.15 1336.64 Q2076.07 1334.1 2076.07 1329.49 M2080.33 1339.54 Q2080.33 1346.16 2077.39 1349.38 Q2074.45 1352.62 2068.39 1352.62 Q2066.14 1352.62 2064.15 1352.27 Q2062.16 1351.95 2060.29 1351.25 L2060.29 1347.11 Q2062.16 1348.13 2063.99 1348.61 Q2065.82 1349.1 2067.72 1349.1 Q2071.91 1349.1 2073.99 1346.9 Q2076.07 1344.72 2076.07 1340.3 L2076.07 1338.2 Q2074.76 1340.49 2072.69 1341.62 Q2070.63 1342.76 2067.76 1342.76 Q2063 1342.76 2060.08 1339.12 Q2057.16 1335.49 2057.16 1329.49 Q2057.16 1323.47 2060.08 1319.84 Q2063 1316.2 2067.76 1316.2 Q2070.63 1316.2 2072.69 1317.34 Q2074.76 1318.47 2076.07 1320.76 L2076.07 1316.83 L2080.33 1316.83 L2080.33 1339.54 Z\" fill=\"#000000\" fill-rule=\"nonzero\" fill-opacity=\"1\" /><path clip-path=\"url(#clip050)\" d=\"M2111.28 1328.73 L2111.28 1330.81 L2091.7 1330.81 Q2091.98 1335.21 2094.34 1337.52 Q2096.72 1339.82 2100.96 1339.82 Q2103.41 1339.82 2105.7 1339.21 Q2108.02 1338.61 2110.29 1337.41 L2110.29 1341.44 Q2108 1342.41 2105.59 1342.92 Q2103.18 1343.43 2100.7 1343.43 Q2094.5 1343.43 2090.87 1339.82 Q2087.25 1336.2 2087.25 1330.05 Q2087.25 1323.68 2090.68 1319.95 Q2094.13 1316.2 2099.96 1316.2 Q2105.19 1316.2 2108.23 1319.58 Q2111.28 1322.94 2111.28 1328.73 M2107.02 1327.48 Q2106.98 1323.98 2105.06 1321.9 Q2103.16 1319.82 2100.01 1319.82 Q2096.44 1319.82 2094.29 1321.83 Q2092.16 1323.84 2091.84 1327.5 L2107.02 1327.48 Z\" fill=\"#000000\" fill-rule=\"nonzero\" fill-opacity=\"1\" /><path clip-path=\"url(#clip050)\" d=\"M2133.3 1320.81 Q2132.58 1320.39 2131.72 1320.21 Q2130.89 1320 2129.87 1320 Q2126.26 1320 2124.31 1322.36 Q2122.39 1324.7 2122.39 1329.1 L2122.39 1342.76 L2118.11 1342.76 L2118.11 1316.83 L2122.39 1316.83 L2122.39 1320.86 Q2123.74 1318.5 2125.89 1317.36 Q2128.04 1316.2 2131.12 1316.2 Q2131.56 1316.2 2132.09 1316.27 Q2132.63 1316.32 2133.27 1316.44 L2133.3 1320.81 Z\" fill=\"#000000\" fill-rule=\"nonzero\" fill-opacity=\"1\" /><path clip-path=\"url(#clip050)\" d=\"M2157.69 1312.04 L2157.69 1338.91 L2163.34 1338.91 Q2170.5 1338.91 2173.81 1335.67 Q2177.14 1332.43 2177.14 1325.44 Q2177.14 1318.5 2173.81 1315.28 Q2170.5 1312.04 2163.34 1312.04 L2157.69 1312.04 M2153.02 1308.2 L2162.62 1308.2 Q2172.67 1308.2 2177.37 1312.39 Q2182.07 1316.55 2182.07 1325.44 Q2182.07 1334.38 2177.35 1338.57 Q2172.62 1342.76 2162.62 1342.76 L2153.02 1342.76 L2153.02 1308.2 Z\" fill=\"#000000\" fill-rule=\"nonzero\" fill-opacity=\"1\" /><path clip-path=\"url(#clip050)\" d=\"M2201.12 1329.72 Q2195.96 1329.72 2193.97 1330.9 Q2191.98 1332.08 2191.98 1334.93 Q2191.98 1337.2 2193.46 1338.54 Q2194.96 1339.86 2197.53 1339.86 Q2201.07 1339.86 2203.2 1337.36 Q2205.36 1334.84 2205.36 1330.67 L2205.36 1329.72 L2201.12 1329.72 M2209.62 1327.96 L2209.62 1342.76 L2205.36 1342.76 L2205.36 1338.82 Q2203.9 1341.18 2201.72 1342.32 Q2199.55 1343.43 2196.4 1343.43 Q2192.42 1343.43 2190.06 1341.2 Q2187.72 1338.96 2187.72 1335.21 Q2187.72 1330.83 2190.63 1328.61 Q2193.57 1326.39 2199.38 1326.39 L2205.36 1326.39 L2205.36 1325.97 Q2205.36 1323.03 2203.41 1321.44 Q2201.49 1319.82 2198 1319.82 Q2195.77 1319.82 2193.67 1320.35 Q2191.56 1320.88 2189.62 1321.95 L2189.62 1318.01 Q2191.95 1317.11 2194.15 1316.67 Q2196.35 1316.2 2198.43 1316.2 Q2204.06 1316.2 2206.84 1319.12 Q2209.62 1322.04 2209.62 1327.96 Z\" fill=\"#000000\" fill-rule=\"nonzero\" fill-opacity=\"1\" /><path clip-path=\"url(#clip050)\" d=\"M2222.6 1309.47 L2222.6 1316.83 L2231.37 1316.83 L2231.37 1320.14 L2222.6 1320.14 L2222.6 1334.21 Q2222.6 1337.38 2223.46 1338.29 Q2224.34 1339.19 2227 1339.19 L2231.37 1339.19 L2231.37 1342.76 L2227 1342.76 Q2222.07 1342.76 2220.19 1340.93 Q2218.32 1339.07 2218.32 1334.21 L2218.32 1320.14 L2215.19 1320.14 L2215.19 1316.83 L2218.32 1316.83 L2218.32 1309.47 L2222.6 1309.47 Z\" fill=\"#000000\" fill-rule=\"nonzero\" fill-opacity=\"1\" /><path clip-path=\"url(#clip050)\" d=\"M2248.76 1329.72 Q2243.6 1329.72 2241.61 1330.9 Q2239.62 1332.08 2239.62 1334.93 Q2239.62 1337.2 2241.1 1338.54 Q2242.6 1339.86 2245.17 1339.86 Q2248.71 1339.86 2250.84 1337.36 Q2252.99 1334.84 2252.99 1330.67 L2252.99 1329.72 L2248.76 1329.72 M2257.25 1327.96 L2257.25 1342.76 L2252.99 1342.76 L2252.99 1338.82 Q2251.54 1341.18 2249.36 1342.32 Q2247.18 1343.43 2244.04 1343.43 Q2240.06 1343.43 2237.69 1341.2 Q2235.36 1338.96 2235.36 1335.21 Q2235.36 1330.83 2238.27 1328.61 Q2241.21 1326.39 2247.02 1326.39 L2252.99 1326.39 L2252.99 1325.97 Q2252.99 1323.03 2251.05 1321.44 Q2249.13 1319.82 2245.63 1319.82 Q2243.41 1319.82 2241.31 1320.35 Q2239.2 1320.88 2237.25 1321.95 L2237.25 1318.01 Q2239.59 1317.11 2241.79 1316.67 Q2243.99 1316.2 2246.07 1316.2 Q2251.7 1316.2 2254.48 1319.12 Q2257.25 1322.04 2257.25 1327.96 Z\" fill=\"#000000\" fill-rule=\"nonzero\" fill-opacity=\"1\" /></svg>\n"
      ]
     },
     "execution_count": 117,
     "metadata": {},
     "output_type": "execute_result"
    }
   ],
   "source": [
    "using Plots\n",
    "function squared(x)\n",
    "    y = []\n",
    "    for i in x\n",
    "        y_val = i*i\n",
    "        push!(y,y_val)\n",
    "    end\n",
    "    scatter(x, y, markercolor=:black, markershape=:square, markersize=5, label=\"Integer Data\")\n",
    "    xlabel!(\"x\")\n",
    "    ylabel!(\"Squared Values\")\n",
    "    #first, i pass a list through the squared function\n",
    "    #then, i create another list that will contain all of the integer values but squared and name it y\n",
    "    #for each value in the original list, i square it using a for loop\n",
    "    #i used a scatter plot to plot\n",
    "end\n",
    "\n",
    "integers = [-5,-4,-3,-2,-1,0,1,2,3,4,5]\n",
    "squared(integers)\n",
    "\n"
   ]
  },
  {
   "cell_type": "markdown",
   "id": "eaca6031-e691-4019-9986-e7127b3df842",
   "metadata": {},
   "source": [
    "## Commit and Push Your Changes to GitHub\n",
    "\n",
    "After completing the previous two exercises, commit your solution file\n",
    "(notebook or otherwise) and push to GitHub. Use an informative commit\n",
    "message which makes it clear what changes you’ve made. The specific\n",
    "workflow for this will vary depending on how you’re writing up your\n",
    "solutions; please search for specifics and ask for help as needed!\n",
    "\n",
    "> **Useful Commit Sizes**\n",
    ">\n",
    "> Ideally, you’d commit whenever you make a “substantial” enough change\n",
    "> that you want to lock in, such as writing the core code for a problem\n",
    "> or completing a problem, if you’re preparing code to be used elsewhere\n",
    "> (by yourself or others), or if you want to ask for help. `git` lets\n",
    "> you revert changes back to a previous commit, so it’s easy to undo\n",
    "> changes or updates which broke something that was previously working,\n",
    "> so changing too many things at once can make it hard to keep track of\n",
    "> what worked when.\n",
    ">\n",
    "> But in this case, go ahead and just commit after finishing the\n",
    "> problems.\n",
    "\n",
    "Push the repository with these commits to GitHub and take a screenshot\n",
    "of the repository page\n",
    "(`https://github.com/BEE4750-FA24/<username>/lab01`) which shows the\n",
    "updated repository. Include that screenshot in your submission as the\n",
    "solution to this problem.\n",
    "\n",
    "## Submitting PDF\n",
    "\n",
    "> **Important**\n",
    ">\n",
    "> These submission instructions will not be repeated on future\n",
    "> assignments!\n",
    "\n",
    "\n",
    "Export your writeup as a PDF and submit it to the “Lab 1” assignment on\n",
    "Gradescope. Make sure that you tag pages corresponding to relevant\n",
    "problems to avoid a 10% penalty.\n",
    "\n",
    "> **Printing Code to PDF**\n",
    ">\n",
    "> You are not required to submit your code when submitting assignments.\n",
    "> However, when printing a notebook to PDF, long lines will run off the\n",
    "> edge of code cells, which may result in comments or code being hidden.\n",
    "> If you see this, go back to the notebook and break up long lines into\n",
    "> shorter onces (for example, see the comment in the above code cell) to\n",
    "> ensure key parts of your results aren’t missing."
   ]
  },
  {
   "cell_type": "code",
   "execution_count": 119,
   "id": "169d00dc-38fe-48d6-bede-ab7271d807b1",
   "metadata": {},
   "outputs": [
    {
     "ename": "LoadError",
     "evalue": "UndefVarError: `git` not defined",
     "output_type": "error",
     "traceback": [
      "UndefVarError: `git` not defined",
      ""
     ]
    }
   ],
   "source": [
    "git commit"
   ]
  },
  {
   "cell_type": "code",
   "execution_count": null,
   "id": "3b826032-cced-4ce5-b7ee-04b29f825379",
   "metadata": {},
   "outputs": [],
   "source": []
  },
  {
   "cell_type": "code",
   "execution_count": null,
   "id": "3975d918-9e0d-4d21-8210-ad59fe760b97",
   "metadata": {},
   "outputs": [],
   "source": []
  }
 ],
 "metadata": {
  "kernel_info": {
   "name": "julia"
  },
  "kernelspec": {
   "display_name": "Julia 1.10.4",
   "language": "julia",
   "name": "julia-1.10"
  },
  "language_info": {
   "file_extension": ".jl",
   "mimetype": "application/julia",
   "name": "julia",
   "version": "1.10.4"
  }
 },
 "nbformat": 4,
 "nbformat_minor": 5
}
